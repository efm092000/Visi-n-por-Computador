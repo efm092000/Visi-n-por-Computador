{
 "cells": [
  {
   "cell_type": "code",
   "execution_count": null,
   "metadata": {},
   "outputs": [],
   "source": [
    "# os is used for Ilka's linux :)\n",
    "import os\n",
    "os.environ[\"QT_QPA_PLATFORM\"] = \"xcb\"\n",
    "\n",
    "#To activate Elena's Environment conda activate D:/Elena/Cuarto/VC/Enviroments\n",
    "\n",
    "from ultralytics import YOLO\n",
    "import cv2\n",
    "import pytesseract\n",
    "import pandas as pd"
   ]
  }
 ],
 "metadata": {
  "kernelspec": {
   "display_name": "Vc_P4",
   "language": "python",
   "name": "python3"
  },
  "language_info": {
   "name": "python",
   "version": "3.9.20"
  }
 },
 "nbformat": 4,
 "nbformat_minor": 2
}
