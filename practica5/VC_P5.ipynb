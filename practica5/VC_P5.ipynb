{
 "cells": [
  {
   "cell_type": "code",
   "execution_count": null,
   "metadata": {},
   "outputs": [],
   "source": [
    "# os is used for Ilka's linux :)\n",
    "import os\n",
    "os.environ[\"QT_QPA_PLATFORM\"] = \"xcb\"\n",
    "\n",
    "#To activate Elena's Environment conda activate D:/Elena/Cuarto/VC/Enviroments\n",
    "\n",
    "from ultralytics import YOLO\n",
    "import cv2\n",
    "import pytesseract\n",
    "import pandas as pd\n",
    "\n",
    "\n",
    "\n",
    "\n"
   ]
  },
  {
   "cell_type": "markdown",
   "metadata": {},
   "source": [
    "Make a Simon Said game to change the emotions , give a 5 seconds timer. Only if Simon says it you change the emotion, and get a point, otherwise you lose a point"
   ]
  }
 ],
 "metadata": {
  "kernelspec": {
   "display_name": "VC_P5",
   "language": "python",
   "name": "python3"
  },
  "language_info": {
   "name": "python",
   "version": "3.11.5"
  }
 },
 "nbformat": 4,
 "nbformat_minor": 2
}
