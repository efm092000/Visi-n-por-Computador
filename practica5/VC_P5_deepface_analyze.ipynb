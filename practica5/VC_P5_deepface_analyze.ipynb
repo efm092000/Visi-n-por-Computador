{
 "cells": [
  {
   "cell_type": "markdown",
   "id": "c6fd4a50",
   "metadata": {},
   "source": [
    "# Process image folder"
   ]
  },
  {
   "cell_type": "code",
   "execution_count": 1,
   "id": "frank-length",
   "metadata": {},
   "outputs": [
    {
     "name": "stdout",
     "output_type": "stream",
     "text": [
      "WARNING:tensorflow:From c:\\Users\\efm09\\anaconda3\\envs\\VC_P5\\Lib\\site-packages\\tf_keras\\src\\losses.py:2976: The name tf.losses.sparse_softmax_cross_entropy is deprecated. Please use tf.compat.v1.losses.sparse_softmax_cross_entropy instead.\n",
      "\n",
      "./faces\n"
     ]
    },
    {
     "name": "stderr",
     "output_type": "stream",
     "text": [
      "Action: emotion: 100%|██████████| 4/4 [00:40<00:00, 10.06s/it]\n"
     ]
    },
    {
     "name": "stdout",
     "output_type": "stream",
     "text": [
      "face.jpg\n",
      "[{'age': 31, 'region': {'x': 166, 'y': 204, 'w': 698, 'h': 698, 'left_eye': (626, 484), 'right_eye': (375, 484)}, 'face_confidence': np.float64(0.89), 'gender': {'Woman': np.float32(99.95741), 'Man': np.float32(0.042590994)}, 'dominant_gender': 'Woman', 'race': {'asian': np.float32(97.812325), 'indian': np.float32(0.56597286), 'black': np.float32(0.002863818), 'white': np.float32(0.11595312), 'middle eastern': np.float32(0.0014399509), 'latino hispanic': np.float32(1.5014453)}, 'dominant_race': 'asian', 'emotion': {'angry': np.float32(1.194915e-08), 'disgust': np.float32(7.244326e-15), 'fear': np.float32(4.2096505e-07), 'happy': np.float32(97.77508), 'sad': np.float32(6.344627e-07), 'surprise': np.float32(0.00028946984), 'neutral': np.float32(2.2246323)}, 'dominant_emotion': 'happy'}]\n"
     ]
    },
    {
     "name": "stderr",
     "output_type": "stream",
     "text": [
      "Action: emotion: 100%|██████████| 4/4 [00:06<00:00,  1.64s/it]\n"
     ]
    },
    {
     "name": "stdout",
     "output_type": "stream",
     "text": [
      "face2.jpg\n",
      "[{'age': 35, 'region': {'x': 148, 'y': 213, 'w': 702, 'h': 702, 'left_eye': (624, 480), 'right_eye': (387, 485)}, 'face_confidence': np.float64(0.91), 'gender': {'Woman': np.float32(0.0066681476), 'Man': np.float32(99.99334)}, 'dominant_gender': 'Man', 'race': {'asian': np.float32(1.4848848e-06), 'indian': np.float32(5.239777e-07), 'black': np.float32(1.7740264e-08), 'white': np.float32(99.98429), 'middle eastern': np.float32(0.007816269), 'latino hispanic': np.float32(0.007900587)}, 'dominant_race': 'white', 'emotion': {'angry': np.float32(1.8527892e-07), 'disgust': np.float32(8.723328e-11), 'fear': np.float32(1.459733e-05), 'happy': np.float32(99.99937), 'sad': np.float32(1.9650068e-07), 'surprise': np.float32(9.5538375e-08), 'neutral': np.float32(0.00061782176)}, 'dominant_emotion': 'happy'}]\n"
     ]
    },
    {
     "name": "stderr",
     "output_type": "stream",
     "text": [
      "Action: emotion: 100%|██████████| 4/4 [00:03<00:00,  1.12it/s]"
     ]
    },
    {
     "name": "stdout",
     "output_type": "stream",
     "text": [
      "happy.jpg\n",
      "[{'age': 31, 'region': {'x': 115, 'y': 92, 'w': 173, 'h': 173, 'left_eye': (225, 154), 'right_eye': (170, 161)}, 'face_confidence': np.float64(0.95), 'gender': {'Woman': np.float32(0.6617674), 'Man': np.float32(99.338234)}, 'dominant_gender': 'Man', 'race': {'asian': np.float32(0.06889486), 'indian': np.float32(0.058618248), 'black': np.float32(0.0022339995), 'white': np.float32(83.98855), 'middle eastern': np.float32(5.9177833), 'latino hispanic': np.float32(9.96393)}, 'dominant_race': 'white', 'emotion': {'angry': np.float32(2.5586344e-10), 'disgust': np.float32(1.2794221e-13), 'fear': np.float32(2.0694739e-10), 'happy': np.float32(99.99789), 'sad': np.float32(8.951407e-09), 'surprise': np.float32(2.143122e-10), 'neutral': np.float32(0.0021105136)}, 'dominant_emotion': 'happy'}]\n"
     ]
    },
    {
     "name": "stderr",
     "output_type": "stream",
     "text": [
      "\n"
     ]
    }
   ],
   "source": [
    "import os\n",
    "import cv2\n",
    "from deepface import DeepFace\n",
    "\n",
    "folder = './faces'\n",
    "\n",
    "print(folder)\n",
    "\n",
    "for file_name in os.listdir(folder):\n",
    "    # Asume imágenes en formato png o jpg\n",
    "    if file_name.endswith('.png') or file_name.endswith('.jpg'):\n",
    "        # Procesa la imagen que asume hay cara, no fuerza la detección\n",
    "        obj = DeepFace.analyze(img_path = os.path.join(folder, file_name), enforce_detection=False, actions =['age', 'gender', 'race', 'emotion'])\n",
    "        print(file_name)\n",
    "        print(obj)\n",
    "        #print(obj[\"region\"])\n",
    "        #print(obj[\"age\"])      \n",
    "        #print(obj[\"gender\"])      \n",
    "        #print(obj[\"race\"])       \n",
    "        #print(obj[\"dominant_race\"]) \n",
    "        #print(obj[\"emotion\"])\n",
    "        #print(obj[\"dominant_emotion\"])\n",
    "       \n",
    "        \n"
   ]
  },
  {
   "attachments": {},
   "cell_type": "markdown",
   "id": "643c68d5",
   "metadata": {},
   "source": [
    "# Process from webcam"
   ]
  },
  {
   "cell_type": "code",
   "execution_count": 2,
   "id": "6b1843aa",
   "metadata": {},
   "outputs": [
    {
     "name": "stderr",
     "output_type": "stream",
     "text": [
      "Action: emotion: 100%|██████████| 2/2 [00:02<00:00,  1.02s/it]\n"
     ]
    },
    {
     "name": "stdout",
     "output_type": "stream",
     "text": [
      "[{'gender': {'Woman': np.float32(48.389317), 'Man': np.float32(51.61068)}, 'dominant_gender': 'Man', 'region': {'x': 0, 'y': 0, 'w': 639, 'h': 479, 'left_eye': None, 'right_eye': None}, 'face_confidence': 0, 'emotion': {'angry': np.float32(83.51048), 'disgust': np.float32(0.000391413), 'fear': np.float32(0.02240682), 'happy': np.float32(1.2731793), 'sad': np.float32(2.617257), 'surprise': np.float32(2.185156), 'neutral': np.float32(10.391132)}, 'dominant_emotion': 'angry'}]\n"
     ]
    },
    {
     "name": "stderr",
     "output_type": "stream",
     "text": [
      "Action: emotion: 100%|██████████| 2/2 [00:01<00:00,  1.07it/s]\n"
     ]
    },
    {
     "name": "stdout",
     "output_type": "stream",
     "text": [
      "[{'gender': {'Woman': np.float32(6.895452), 'Man': np.float32(93.104546)}, 'dominant_gender': 'Man', 'region': {'x': 0, 'y': 0, 'w': 639, 'h': 479, 'left_eye': None, 'right_eye': None}, 'face_confidence': 0, 'emotion': {'angry': np.float32(3.9570094e-09), 'disgust': np.float32(1.1332187e-19), 'fear': np.float32(9.1464536e-08), 'happy': np.float32(100.0), 'sad': np.float32(1.8344191e-09), 'surprise': np.float32(4.458579e-15), 'neutral': np.float32(3.7784464e-10)}, 'dominant_emotion': 'happy'}]\n"
     ]
    },
    {
     "name": "stderr",
     "output_type": "stream",
     "text": [
      "Action: emotion: 100%|██████████| 2/2 [00:01<00:00,  1.42it/s]\n"
     ]
    },
    {
     "name": "stdout",
     "output_type": "stream",
     "text": [
      "[{'gender': {'Woman': np.float32(1.6810633), 'Man': np.float32(98.31893)}, 'dominant_gender': 'Man', 'region': {'x': 152, 'y': 94, 'w': 199, 'h': 199, 'left_eye': (283, 180), 'right_eye': (213, 177)}, 'face_confidence': np.float64(0.91), 'emotion': {'angry': np.float32(0.87128514), 'disgust': np.float32(0.00015229001), 'fear': np.float32(2.1631315), 'happy': np.float32(0.00044964429), 'sad': np.float32(96.33663), 'surprise': np.float32(0.00020703698), 'neutral': np.float32(0.6281338)}, 'dominant_emotion': 'sad'}]\n"
     ]
    },
    {
     "name": "stderr",
     "output_type": "stream",
     "text": [
      "Action: emotion: 100%|██████████| 2/2 [00:01<00:00,  1.58it/s]\n"
     ]
    },
    {
     "name": "stdout",
     "output_type": "stream",
     "text": [
      "[{'gender': {'Woman': np.float32(1.7225752), 'Man': np.float32(98.27743)}, 'dominant_gender': 'Man', 'region': {'x': 233, 'y': 109, 'w': 186, 'h': 186, 'left_eye': (357, 190), 'right_eye': (289, 185)}, 'face_confidence': np.float64(0.9), 'emotion': {'angry': np.float32(1.6568253), 'disgust': np.float32(0.00011214826), 'fear': np.float32(8.384723), 'happy': np.float32(0.0015272063), 'sad': np.float32(85.346954), 'surprise': np.float32(0.0015215338), 'neutral': np.float32(4.6083426)}, 'dominant_emotion': 'sad'}]\n"
     ]
    },
    {
     "name": "stderr",
     "output_type": "stream",
     "text": [
      "Action: emotion: 100%|██████████| 2/2 [00:01<00:00,  1.37it/s]\n"
     ]
    },
    {
     "name": "stdout",
     "output_type": "stream",
     "text": [
      "[{'gender': {'Woman': np.float32(3.0964155), 'Man': np.float32(96.90359)}, 'dominant_gender': 'Man', 'region': {'x': 224, 'y': 113, 'w': 177, 'h': 177, 'left_eye': (341, 183), 'right_eye': (276, 186)}, 'face_confidence': np.float64(0.96), 'emotion': {'angry': np.float32(0.6545785), 'disgust': np.float32(8.155607e-06), 'fear': np.float32(4.710725), 'happy': np.float32(0.0016908486), 'sad': np.float32(76.58457), 'surprise': np.float32(0.00010963372), 'neutral': np.float32(18.048317)}, 'dominant_emotion': 'sad'}]\n"
     ]
    },
    {
     "name": "stderr",
     "output_type": "stream",
     "text": [
      "Action: emotion: 100%|██████████| 2/2 [00:01<00:00,  1.76it/s]\n"
     ]
    },
    {
     "name": "stdout",
     "output_type": "stream",
     "text": [
      "[{'gender': {'Woman': np.float32(1.3479373), 'Man': np.float32(98.65206)}, 'dominant_gender': 'Man', 'region': {'x': 223, 'y': 103, 'w': 166, 'h': 166, 'left_eye': None, 'right_eye': None}, 'face_confidence': np.float64(0.92), 'emotion': {'angry': np.float32(12.694183), 'disgust': np.float32(0.080042295), 'fear': np.float32(4.0716634), 'happy': np.float32(0.15990981), 'sad': np.float32(62.238163), 'surprise': np.float32(0.61756617), 'neutral': np.float32(20.13848)}, 'dominant_emotion': 'sad'}]\n"
     ]
    },
    {
     "name": "stderr",
     "output_type": "stream",
     "text": [
      "Action: emotion: 100%|██████████| 2/2 [00:01<00:00,  1.67it/s]\n"
     ]
    },
    {
     "name": "stdout",
     "output_type": "stream",
     "text": [
      "[{'gender': {'Woman': np.float32(0.6884253), 'Man': np.float32(99.31157)}, 'dominant_gender': 'Man', 'region': {'x': 222, 'y': 107, 'w': 170, 'h': 170, 'left_eye': None, 'right_eye': None}, 'face_confidence': np.float64(0.92), 'emotion': {'angry': np.float32(6.3849506), 'disgust': np.float32(0.033473827), 'fear': np.float32(7.672079), 'happy': np.float32(0.0017499968), 'sad': np.float32(81.10354), 'surprise': np.float32(0.001127574), 'neutral': np.float32(4.8030777)}, 'dominant_emotion': 'sad'}]\n"
     ]
    },
    {
     "name": "stderr",
     "output_type": "stream",
     "text": [
      "Action: emotion: 100%|██████████| 2/2 [00:01<00:00,  1.76it/s]\n"
     ]
    },
    {
     "name": "stdout",
     "output_type": "stream",
     "text": [
      "[{'gender': {'Woman': np.float32(0.691051), 'Man': np.float32(99.30895)}, 'dominant_gender': 'Man', 'region': {'x': 221, 'y': 108, 'w': 169, 'h': 169, 'left_eye': None, 'right_eye': None}, 'face_confidence': np.float64(0.91), 'emotion': {'angry': np.float32(5.127789), 'disgust': np.float32(0.0323496), 'fear': np.float32(16.617002), 'happy': np.float32(0.009506154), 'sad': np.float32(72.21164), 'surprise': np.float32(0.025220506), 'neutral': np.float32(5.9764957)}, 'dominant_emotion': 'sad'}]\n"
     ]
    },
    {
     "name": "stderr",
     "output_type": "stream",
     "text": [
      "Action: emotion: 100%|██████████| 2/2 [00:01<00:00,  1.23it/s]\n"
     ]
    },
    {
     "name": "stdout",
     "output_type": "stream",
     "text": [
      "[{'gender': {'Woman': np.float32(1.1461886), 'Man': np.float32(98.85381)}, 'dominant_gender': 'Man', 'region': {'x': 220, 'y': 109, 'w': 173, 'h': 173, 'left_eye': None, 'right_eye': None}, 'face_confidence': np.float64(0.91), 'emotion': {'angry': np.float32(3.8357184), 'disgust': np.float32(0.0020651189), 'fear': np.float32(17.829523), 'happy': np.float32(0.035318773), 'sad': np.float32(59.857506), 'surprise': np.float32(0.00669861), 'neutral': np.float32(18.433167)}, 'dominant_emotion': 'sad'}]\n"
     ]
    },
    {
     "name": "stderr",
     "output_type": "stream",
     "text": [
      "Action: emotion: 100%|██████████| 2/2 [00:01<00:00,  1.73it/s]\n"
     ]
    },
    {
     "name": "stdout",
     "output_type": "stream",
     "text": [
      "[{'gender': {'Woman': np.float32(1.9838767), 'Man': np.float32(98.01613)}, 'dominant_gender': 'Man', 'region': {'x': 221, 'y': 111, 'w': 171, 'h': 171, 'left_eye': None, 'right_eye': None}, 'face_confidence': np.float64(0.91), 'emotion': {'angry': np.float32(6.060248), 'disgust': np.float32(0.0016807844), 'fear': np.float32(8.863791), 'happy': np.float32(0.026752142), 'sad': np.float32(63.13058), 'surprise': np.float32(0.0034361456), 'neutral': np.float32(21.91351)}, 'dominant_emotion': 'sad'}]\n"
     ]
    },
    {
     "name": "stderr",
     "output_type": "stream",
     "text": [
      "Action: emotion: 100%|██████████| 2/2 [00:00<00:00,  2.02it/s]\n"
     ]
    },
    {
     "name": "stdout",
     "output_type": "stream",
     "text": [
      "[{'gender': {'Woman': np.float32(0.9929596), 'Man': np.float32(99.00704)}, 'dominant_gender': 'Man', 'region': {'x': 219, 'y': 109, 'w': 174, 'h': 174, 'left_eye': None, 'right_eye': None}, 'face_confidence': np.float64(0.91), 'emotion': {'angry': np.float32(3.5398464), 'disgust': np.float32(0.007881655), 'fear': np.float32(17.635595), 'happy': np.float32(0.018856939), 'sad': np.float32(67.420006), 'surprise': np.float32(0.0119510675), 'neutral': np.float32(11.365867)}, 'dominant_emotion': 'sad'}]\n"
     ]
    },
    {
     "name": "stderr",
     "output_type": "stream",
     "text": [
      "Action: emotion: 100%|██████████| 2/2 [00:00<00:00,  2.08it/s]\n"
     ]
    },
    {
     "name": "stdout",
     "output_type": "stream",
     "text": [
      "[{'gender': {'Woman': np.float32(0.62740076), 'Man': np.float32(99.372604)}, 'dominant_gender': 'Man', 'region': {'x': 220, 'y': 110, 'w': 173, 'h': 173, 'left_eye': None, 'right_eye': None}, 'face_confidence': np.float64(0.91), 'emotion': {'angry': np.float32(6.32156), 'disgust': np.float32(0.07181235), 'fear': np.float32(25.485373), 'happy': np.float32(0.04210808), 'sad': np.float32(57.103867), 'surprise': np.float32(0.03004813), 'neutral': np.float32(10.94523)}, 'dominant_emotion': 'sad'}]\n"
     ]
    },
    {
     "name": "stderr",
     "output_type": "stream",
     "text": [
      "Action: emotion: 100%|██████████| 2/2 [00:01<00:00,  1.97it/s]\n"
     ]
    },
    {
     "name": "stdout",
     "output_type": "stream",
     "text": [
      "[{'gender': {'Woman': np.float32(1.2063233), 'Man': np.float32(98.79368)}, 'dominant_gender': 'Man', 'region': {'x': 222, 'y': 112, 'w': 170, 'h': 170, 'left_eye': None, 'right_eye': None}, 'face_confidence': np.float64(0.91), 'emotion': {'angry': np.float32(3.9413545), 'disgust': np.float32(0.0006750072), 'fear': np.float32(9.264584), 'happy': np.float32(0.055992946), 'sad': np.float32(57.33404), 'surprise': np.float32(0.004950239), 'neutral': np.float32(29.3984)}, 'dominant_emotion': 'sad'}]\n"
     ]
    },
    {
     "name": "stderr",
     "output_type": "stream",
     "text": [
      "Action: emotion: 100%|██████████| 2/2 [00:00<00:00,  2.19it/s]\n"
     ]
    },
    {
     "name": "stdout",
     "output_type": "stream",
     "text": [
      "[{'gender': {'Woman': np.float32(0.7012396), 'Man': np.float32(99.29876)}, 'dominant_gender': 'Man', 'region': {'x': 219, 'y': 109, 'w': 174, 'h': 174, 'left_eye': None, 'right_eye': None}, 'face_confidence': np.float64(0.91), 'emotion': {'angry': np.float32(1.6947472), 'disgust': np.float32(0.0023521413), 'fear': np.float32(18.274271), 'happy': np.float32(0.0233146), 'sad': np.float32(72.84382), 'surprise': np.float32(0.0072340094), 'neutral': np.float32(7.1542645)}, 'dominant_emotion': 'sad'}]\n"
     ]
    },
    {
     "name": "stderr",
     "output_type": "stream",
     "text": [
      "Action: emotion: 100%|██████████| 2/2 [00:00<00:00,  2.19it/s]\n"
     ]
    },
    {
     "name": "stdout",
     "output_type": "stream",
     "text": [
      "[{'gender': {'Woman': np.float32(0.9557421), 'Man': np.float32(99.04426)}, 'dominant_gender': 'Man', 'region': {'x': 220, 'y': 110, 'w': 172, 'h': 172, 'left_eye': None, 'right_eye': None}, 'face_confidence': np.float64(0.9), 'emotion': {'angry': np.float32(4.175421), 'disgust': np.float32(0.01643523), 'fear': np.float32(20.707052), 'happy': np.float32(0.022224855), 'sad': np.float32(65.08954), 'surprise': np.float32(0.010960155), 'neutral': np.float32(9.978364)}, 'dominant_emotion': 'sad'}]\n"
     ]
    },
    {
     "name": "stderr",
     "output_type": "stream",
     "text": [
      "Action: emotion: 100%|██████████| 2/2 [00:00<00:00,  2.25it/s]\n"
     ]
    },
    {
     "name": "stdout",
     "output_type": "stream",
     "text": [
      "[{'gender': {'Woman': np.float32(0.863734), 'Man': np.float32(99.13626)}, 'dominant_gender': 'Man', 'region': {'x': 221, 'y': 110, 'w': 171, 'h': 171, 'left_eye': None, 'right_eye': None}, 'face_confidence': np.float64(0.92), 'emotion': {'angry': np.float32(3.414222), 'disgust': np.float32(0.0053028073), 'fear': np.float32(14.922374), 'happy': np.float32(0.07513631), 'sad': np.float32(63.038612), 'surprise': np.float32(0.022395255), 'neutral': np.float32(18.521963)}, 'dominant_emotion': 'sad'}]\n"
     ]
    },
    {
     "name": "stderr",
     "output_type": "stream",
     "text": [
      "Action: emotion: 100%|██████████| 2/2 [00:00<00:00,  2.17it/s]\n"
     ]
    },
    {
     "name": "stdout",
     "output_type": "stream",
     "text": [
      "[{'gender': {'Woman': np.float32(1.1694697), 'Man': np.float32(98.830536)}, 'dominant_gender': 'Man', 'region': {'x': 220, 'y': 111, 'w': 172, 'h': 172, 'left_eye': (336, 182), 'right_eye': (272, 182)}, 'face_confidence': np.float64(0.92), 'emotion': {'angry': np.float32(4.3266497), 'disgust': np.float32(0.0047066375), 'fear': np.float32(10.61392), 'happy': np.float32(0.03177953), 'sad': np.float32(65.768585), 'surprise': np.float32(0.0041164774), 'neutral': np.float32(19.250244)}, 'dominant_emotion': 'sad'}]\n"
     ]
    },
    {
     "name": "stderr",
     "output_type": "stream",
     "text": [
      "Action: emotion: 100%|██████████| 2/2 [00:00<00:00,  2.00it/s]\n"
     ]
    },
    {
     "name": "stdout",
     "output_type": "stream",
     "text": [
      "[{'gender': {'Woman': np.float32(0.9211189), 'Man': np.float32(99.07889)}, 'dominant_gender': 'Man', 'region': {'x': 221, 'y': 110, 'w': 174, 'h': 174, 'left_eye': None, 'right_eye': None}, 'face_confidence': np.float64(0.91), 'emotion': {'angry': np.float32(1.9773282), 'disgust': np.float32(0.0006037254), 'fear': np.float32(11.528449), 'happy': np.float32(0.05022905), 'sad': np.float32(74.218056), 'surprise': np.float32(0.008035506), 'neutral': np.float32(12.2172985)}, 'dominant_emotion': 'sad'}]\n"
     ]
    },
    {
     "name": "stderr",
     "output_type": "stream",
     "text": [
      "Action: emotion: 100%|██████████| 2/2 [00:00<00:00,  2.03it/s]\n"
     ]
    },
    {
     "name": "stdout",
     "output_type": "stream",
     "text": [
      "[{'gender': {'Woman': np.float32(0.80992365), 'Man': np.float32(99.19008)}, 'dominant_gender': 'Man', 'region': {'x': 223, 'y': 110, 'w': 172, 'h': 172, 'left_eye': None, 'right_eye': None}, 'face_confidence': np.float64(0.9), 'emotion': {'angry': np.float32(9.499359), 'disgust': np.float32(0.0049582724), 'fear': np.float32(13.318257), 'happy': np.float32(0.009272368), 'sad': np.float32(73.34201), 'surprise': np.float32(0.01920215), 'neutral': np.float32(3.8069355)}, 'dominant_emotion': 'sad'}]\n"
     ]
    },
    {
     "name": "stderr",
     "output_type": "stream",
     "text": [
      "Action: emotion: 100%|██████████| 2/2 [00:00<00:00,  2.25it/s]\n"
     ]
    },
    {
     "name": "stdout",
     "output_type": "stream",
     "text": [
      "[{'gender': {'Woman': np.float32(0.70616513), 'Man': np.float32(99.29383)}, 'dominant_gender': 'Man', 'region': {'x': 198, 'y': 98, 'w': 207, 'h': 207, 'left_eye': (337, 188), 'right_eye': (259, 189)}, 'face_confidence': np.float64(0.93), 'emotion': {'angry': np.float32(0.8307576), 'disgust': np.float32(0.0003382889), 'fear': np.float32(5.303829), 'happy': np.float32(0.06611685), 'sad': np.float32(91.25829), 'surprise': np.float32(0.016142689), 'neutral': np.float32(2.5245218)}, 'dominant_emotion': 'sad'}]\n"
     ]
    },
    {
     "name": "stderr",
     "output_type": "stream",
     "text": [
      "Action: emotion: 100%|██████████| 2/2 [00:01<00:00,  2.00it/s]\n"
     ]
    },
    {
     "name": "stdout",
     "output_type": "stream",
     "text": [
      "[{'gender': {'Woman': np.float32(0.6260198), 'Man': np.float32(99.373985)}, 'dominant_gender': 'Man', 'region': {'x': 203, 'y': 99, 'w': 201, 'h': 201, 'left_eye': (339, 185), 'right_eye': (263, 183)}, 'face_confidence': np.float64(0.91), 'emotion': {'angry': np.float32(4.552528), 'disgust': np.float32(0.0022217317), 'fear': np.float32(12.254998), 'happy': np.float32(0.014007135), 'sad': np.float32(66.1002), 'surprise': np.float32(0.008413163), 'neutral': np.float32(17.067636)}, 'dominant_emotion': 'sad'}]\n"
     ]
    },
    {
     "name": "stderr",
     "output_type": "stream",
     "text": [
      "Action: emotion: 100%|██████████| 2/2 [00:00<00:00,  2.27it/s]\n"
     ]
    },
    {
     "name": "stdout",
     "output_type": "stream",
     "text": [
      "[{'gender': {'Woman': np.float32(1.3667822), 'Man': np.float32(98.63322)}, 'dominant_gender': 'Man', 'region': {'x': 197, 'y': 99, 'w': 214, 'h': 214, 'left_eye': (342, 190), 'right_eye': (263, 189)}, 'face_confidence': np.float64(0.93), 'emotion': {'angry': np.float32(6.29408), 'disgust': np.float32(0.0010448934), 'fear': np.float32(12.535478), 'happy': np.float32(0.0049332445), 'sad': np.float32(57.709316), 'surprise': np.float32(0.0007343593), 'neutral': np.float32(23.45442)}, 'dominant_emotion': 'sad'}]\n"
     ]
    },
    {
     "name": "stderr",
     "output_type": "stream",
     "text": [
      "Action: emotion: 100%|██████████| 2/2 [00:00<00:00,  2.31it/s]\n"
     ]
    },
    {
     "name": "stdout",
     "output_type": "stream",
     "text": [
      "[{'gender': {'Woman': np.float32(26.636768), 'Man': np.float32(73.363235)}, 'dominant_gender': 'Man', 'region': {'x': 179, 'y': 96, 'w': 243, 'h': 243, 'left_eye': (343, 197), 'right_eye': (252, 195)}, 'face_confidence': np.float64(0.92), 'emotion': {'angry': np.float32(0.2882929), 'disgust': np.float32(6.384764e-05), 'fear': np.float32(35.745617), 'happy': np.float32(0.0027041787), 'sad': np.float32(60.3463), 'surprise': np.float32(0.000407729), 'neutral': np.float32(3.616628)}, 'dominant_emotion': 'sad'}]\n"
     ]
    },
    {
     "name": "stderr",
     "output_type": "stream",
     "text": [
      "Action: emotion: 100%|██████████| 2/2 [00:01<00:00,  1.97it/s]\n"
     ]
    },
    {
     "name": "stdout",
     "output_type": "stream",
     "text": [
      "[{'gender': {'Woman': np.float32(12.484001), 'Man': np.float32(87.516)}, 'dominant_gender': 'Man', 'region': {'x': 162, 'y': 108, 'w': 276, 'h': 276, 'left_eye': (348, 217), 'right_eye': (253, 215)}, 'face_confidence': np.float64(0.94), 'emotion': {'angry': np.float32(0.04984985), 'disgust': np.float32(0.003878097), 'fear': np.float32(0.27409458), 'happy': np.float32(32.641174), 'sad': np.float32(61.776276), 'surprise': np.float32(3.4244802e-06), 'neutral': np.float32(5.2547255)}, 'dominant_emotion': 'sad'}]\n"
     ]
    },
    {
     "name": "stderr",
     "output_type": "stream",
     "text": [
      "Action: emotion: 100%|██████████| 2/2 [00:01<00:00,  1.64it/s]\n"
     ]
    },
    {
     "name": "stdout",
     "output_type": "stream",
     "text": [
      "[{'gender': {'Woman': np.float32(14.149648), 'Man': np.float32(85.85035)}, 'dominant_gender': 'Man', 'region': {'x': 163, 'y': 110, 'w': 272, 'h': 272, 'left_eye': (344, 218), 'right_eye': (254, 214)}, 'face_confidence': np.float64(0.95), 'emotion': {'angry': np.float32(0.56878614), 'disgust': np.float32(0.023836918), 'fear': np.float32(1.8417742), 'happy': np.float32(1.0059891), 'sad': np.float32(96.08263), 'surprise': np.float32(0.00015245372), 'neutral': np.float32(0.4768302)}, 'dominant_emotion': 'sad'}]\n"
     ]
    },
    {
     "name": "stderr",
     "output_type": "stream",
     "text": [
      "Action: emotion: 100%|██████████| 2/2 [00:01<00:00,  1.70it/s]\n"
     ]
    },
    {
     "name": "stdout",
     "output_type": "stream",
     "text": [
      "[{'gender': {'Woman': np.float32(4.9504275), 'Man': np.float32(95.049576)}, 'dominant_gender': 'Man', 'region': {'x': 153, 'y': 115, 'w': 286, 'h': 286, 'left_eye': None, 'right_eye': None}, 'face_confidence': np.float64(0.93), 'emotion': {'angry': np.float32(9.178187), 'disgust': np.float32(0.001020579), 'fear': np.float32(4.0289674), 'happy': np.float32(71.098885), 'sad': np.float32(13.283844), 'surprise': np.float32(0.0021507659), 'neutral': np.float32(2.4069433)}, 'dominant_emotion': 'happy'}]\n"
     ]
    },
    {
     "name": "stderr",
     "output_type": "stream",
     "text": [
      "Action: emotion: 100%|██████████| 2/2 [00:00<00:00,  2.06it/s]\n"
     ]
    },
    {
     "name": "stdout",
     "output_type": "stream",
     "text": [
      "[{'gender': {'Woman': np.float32(2.6386485), 'Man': np.float32(97.36135)}, 'dominant_gender': 'Man', 'region': {'x': 139, 'y': 116, 'w': 273, 'h': 273, 'left_eye': (316, 229), 'right_eye': (233, 219)}, 'face_confidence': np.float64(0.98), 'emotion': {'angry': np.float32(3.8326204), 'disgust': np.float32(2.5672605e-07), 'fear': np.float32(85.053925), 'happy': np.float32(0.21740334), 'sad': np.float32(10.895925), 'surprise': np.float32(6.5777545e-05), 'neutral': np.float32(6.982072e-05)}, 'dominant_emotion': 'fear'}]\n"
     ]
    },
    {
     "name": "stderr",
     "output_type": "stream",
     "text": [
      "Action: emotion: 100%|██████████| 2/2 [00:01<00:00,  1.88it/s]\n"
     ]
    },
    {
     "name": "stdout",
     "output_type": "stream",
     "text": [
      "[{'gender': {'Woman': np.float32(19.70542), 'Man': np.float32(80.294586)}, 'dominant_gender': 'Man', 'region': {'x': 180, 'y': 119, 'w': 219, 'h': 219, 'left_eye': None, 'right_eye': None}, 'face_confidence': np.float64(0.93), 'emotion': {'angry': np.float32(0.035556324), 'disgust': np.float32(0.03868089), 'fear': np.float32(3.100733), 'happy': np.float32(0.11548063), 'sad': np.float32(91.065575), 'surprise': np.float32(2.2411664e-06), 'neutral': np.float32(5.643975)}, 'dominant_emotion': 'sad'}]\n"
     ]
    },
    {
     "name": "stderr",
     "output_type": "stream",
     "text": [
      "Action: emotion: 100%|██████████| 2/2 [00:00<00:00,  2.07it/s]\n"
     ]
    },
    {
     "name": "stdout",
     "output_type": "stream",
     "text": [
      "[{'gender': {'Woman': np.float32(4.871286), 'Man': np.float32(95.128716)}, 'dominant_gender': 'Man', 'region': {'x': 250, 'y': 143, 'w': 128, 'h': 128, 'left_eye': None, 'right_eye': None}, 'face_confidence': np.float64(0.88), 'emotion': {'angry': np.float32(7.5125165), 'disgust': np.float32(0.01603361), 'fear': np.float32(4.676306), 'happy': np.float32(0.02999615), 'sad': np.float32(63.911068), 'surprise': np.float32(0.007637715), 'neutral': np.float32(23.84645)}, 'dominant_emotion': 'sad'}]\n"
     ]
    },
    {
     "name": "stderr",
     "output_type": "stream",
     "text": [
      "Action: emotion: 100%|██████████| 2/2 [00:00<00:00,  2.15it/s]\n"
     ]
    },
    {
     "name": "stdout",
     "output_type": "stream",
     "text": [
      "[{'gender': {'Woman': np.float32(1.3459826), 'Man': np.float32(98.654015)}, 'dominant_gender': 'Man', 'region': {'x': 257, 'y': 135, 'w': 137, 'h': 137, 'left_eye': None, 'right_eye': None}, 'face_confidence': np.float64(0.9), 'emotion': {'angry': np.float32(7.8851485), 'disgust': np.float32(0.030058334), 'fear': np.float32(24.779358), 'happy': np.float32(0.15833694), 'sad': np.float32(35.780212), 'surprise': np.float32(0.261855), 'neutral': np.float32(31.105032)}, 'dominant_emotion': 'sad'}]\n"
     ]
    },
    {
     "name": "stderr",
     "output_type": "stream",
     "text": [
      "Action: emotion: 100%|██████████| 2/2 [00:01<00:00,  1.94it/s]\n"
     ]
    },
    {
     "name": "stdout",
     "output_type": "stream",
     "text": [
      "[{'gender': {'Woman': np.float32(1.9850824), 'Man': np.float32(98.01492)}, 'dominant_gender': 'Man', 'region': {'x': 261, 'y': 135, 'w': 137, 'h': 137, 'left_eye': None, 'right_eye': None}, 'face_confidence': np.float64(0.92), 'emotion': {'angry': np.float32(0.20700674), 'disgust': np.float32(0.45259127), 'fear': np.float32(7.2260528), 'happy': np.float32(4.6654053), 'sad': np.float32(84.7934), 'surprise': np.float32(0.09286361), 'neutral': np.float32(2.5626748)}, 'dominant_emotion': 'sad'}]\n"
     ]
    },
    {
     "name": "stderr",
     "output_type": "stream",
     "text": [
      "Action: emotion: 100%|██████████| 2/2 [00:01<00:00,  1.60it/s]\n"
     ]
    },
    {
     "name": "stdout",
     "output_type": "stream",
     "text": [
      "[{'gender': {'Woman': np.float32(5.441546), 'Man': np.float32(94.55846)}, 'dominant_gender': 'Man', 'region': {'x': 258, 'y': 140, 'w': 139, 'h': 139, 'left_eye': None, 'right_eye': None}, 'face_confidence': np.float64(0.9), 'emotion': {'angry': np.float32(0.019009823), 'disgust': np.float32(0.01823671), 'fear': np.float32(17.618557), 'happy': np.float32(34.624035), 'sad': np.float32(7.331483), 'surprise': np.float32(0.14163168), 'neutral': np.float32(40.24704)}, 'dominant_emotion': 'neutral'}]\n"
     ]
    },
    {
     "name": "stderr",
     "output_type": "stream",
     "text": [
      "Action: emotion: 100%|██████████| 2/2 [00:01<00:00,  1.77it/s]\n"
     ]
    },
    {
     "name": "stdout",
     "output_type": "stream",
     "text": [
      "[{'gender': {'Woman': np.float32(10.655714), 'Man': np.float32(89.344284)}, 'dominant_gender': 'Man', 'region': {'x': 259, 'y': 141, 'w': 140, 'h': 140, 'left_eye': None, 'right_eye': None}, 'face_confidence': np.float64(0.91), 'emotion': {'angry': np.float32(0.016496887), 'disgust': np.float32(0.0126359565), 'fear': np.float32(7.769256), 'happy': np.float32(55.039085), 'sad': np.float32(9.261603), 'surprise': np.float32(0.18215534), 'neutral': np.float32(27.718777)}, 'dominant_emotion': 'happy'}]\n"
     ]
    },
    {
     "name": "stderr",
     "output_type": "stream",
     "text": [
      "Action: emotion: 100%|██████████| 2/2 [00:01<00:00,  1.86it/s]\n"
     ]
    },
    {
     "name": "stdout",
     "output_type": "stream",
     "text": [
      "[{'gender': {'Woman': np.float32(9.84213), 'Man': np.float32(90.15787)}, 'dominant_gender': 'Man', 'region': {'x': 257, 'y': 140, 'w': 141, 'h': 141, 'left_eye': None, 'right_eye': None}, 'face_confidence': np.float64(0.93), 'emotion': {'angry': np.float32(0.0067140833), 'disgust': np.float32(0.0006785927), 'fear': np.float32(1.1267623), 'happy': np.float32(57.57305), 'sad': np.float32(2.1371884), 'surprise': np.float32(0.106665924), 'neutral': np.float32(39.04894)}, 'dominant_emotion': 'happy'}]\n"
     ]
    },
    {
     "name": "stderr",
     "output_type": "stream",
     "text": [
      "Action: emotion: 100%|██████████| 2/2 [00:00<00:00,  2.03it/s]\n"
     ]
    },
    {
     "name": "stdout",
     "output_type": "stream",
     "text": [
      "[{'gender': {'Woman': np.float32(11.016936), 'Man': np.float32(88.98306)}, 'dominant_gender': 'Man', 'region': {'x': 257, 'y': 139, 'w': 141, 'h': 141, 'left_eye': None, 'right_eye': None}, 'face_confidence': np.float64(0.92), 'emotion': {'angry': np.float32(0.08549082), 'disgust': np.float32(0.011358285), 'fear': np.float32(0.3480197), 'happy': np.float32(73.814964), 'sad': np.float32(2.3669655), 'surprise': np.float32(0.03863384), 'neutral': np.float32(23.334568)}, 'dominant_emotion': 'happy'}]\n"
     ]
    },
    {
     "name": "stderr",
     "output_type": "stream",
     "text": [
      "Action: emotion: 100%|██████████| 2/2 [00:01<00:00,  1.71it/s]\n"
     ]
    },
    {
     "name": "stdout",
     "output_type": "stream",
     "text": [
      "[{'gender': {'Woman': np.float32(8.67626), 'Man': np.float32(91.32374)}, 'dominant_gender': 'Man', 'region': {'x': 257, 'y': 142, 'w': 139, 'h': 139, 'left_eye': None, 'right_eye': None}, 'face_confidence': np.float64(0.93), 'emotion': {'angry': np.float32(0.06754474), 'disgust': np.float32(0.015638944), 'fear': np.float32(39.85301), 'happy': np.float32(0.92895097), 'sad': np.float32(50.660736), 'surprise': np.float32(0.03175889), 'neutral': np.float32(8.44237)}, 'dominant_emotion': 'sad'}]\n"
     ]
    },
    {
     "name": "stderr",
     "output_type": "stream",
     "text": [
      "Action: emotion: 100%|██████████| 2/2 [00:01<00:00,  1.61it/s]\n"
     ]
    },
    {
     "name": "stdout",
     "output_type": "stream",
     "text": [
      "[{'gender': {'Woman': np.float32(13.288127), 'Man': np.float32(86.71187)}, 'dominant_gender': 'Man', 'region': {'x': 257, 'y': 140, 'w': 143, 'h': 143, 'left_eye': None, 'right_eye': None}, 'face_confidence': np.float64(0.91), 'emotion': {'angry': np.float32(0.08509473), 'disgust': np.float32(0.0142149795), 'fear': np.float32(32.764328), 'happy': np.float32(1.0278121), 'sad': np.float32(61.672585), 'surprise': np.float32(0.037628055), 'neutral': np.float32(4.398332)}, 'dominant_emotion': 'sad'}]\n"
     ]
    },
    {
     "name": "stderr",
     "output_type": "stream",
     "text": [
      "Action: emotion: 100%|██████████| 2/2 [00:01<00:00,  1.85it/s]\n"
     ]
    },
    {
     "name": "stdout",
     "output_type": "stream",
     "text": [
      "[{'gender': {'Woman': np.float32(13.018118), 'Man': np.float32(86.98189)}, 'dominant_gender': 'Man', 'region': {'x': 258, 'y': 141, 'w': 141, 'h': 141, 'left_eye': None, 'right_eye': None}, 'face_confidence': np.float64(0.92), 'emotion': {'angry': np.float32(0.09638781), 'disgust': np.float32(0.004411018), 'fear': np.float32(53.251453), 'happy': np.float32(0.25588784), 'sad': np.float32(42.372074), 'surprise': np.float32(0.023726191), 'neutral': np.float32(3.996063)}, 'dominant_emotion': 'fear'}]\n"
     ]
    },
    {
     "name": "stderr",
     "output_type": "stream",
     "text": [
      "Action: emotion: 100%|██████████| 2/2 [00:01<00:00,  1.77it/s]\n"
     ]
    },
    {
     "name": "stdout",
     "output_type": "stream",
     "text": [
      "[{'gender': {'Woman': np.float32(11.696766), 'Man': np.float32(88.30324)}, 'dominant_gender': 'Man', 'region': {'x': 259, 'y': 136, 'w': 140, 'h': 140, 'left_eye': None, 'right_eye': None}, 'face_confidence': np.float64(0.93), 'emotion': {'angry': np.float32(0.21023087), 'disgust': np.float32(0.0077288197), 'fear': np.float32(2.0174963), 'happy': np.float32(96.572845), 'sad': np.float32(0.52784914), 'surprise': np.float32(0.0002976142), 'neutral': np.float32(0.66355497)}, 'dominant_emotion': 'happy'}]\n"
     ]
    },
    {
     "name": "stderr",
     "output_type": "stream",
     "text": [
      "Action: emotion: 100%|██████████| 2/2 [00:01<00:00,  1.69it/s]\n"
     ]
    },
    {
     "name": "stdout",
     "output_type": "stream",
     "text": [
      "[{'gender': {'Woman': np.float32(10.819226), 'Man': np.float32(89.18077)}, 'dominant_gender': 'Man', 'region': {'x': 255, 'y': 137, 'w': 140, 'h': 140, 'left_eye': None, 'right_eye': None}, 'face_confidence': np.float64(0.93), 'emotion': {'angry': np.float32(0.0067345663), 'disgust': np.float32(0.036005028), 'fear': np.float32(0.8375743), 'happy': np.float32(95.98471), 'sad': np.float32(1.8506206), 'surprise': np.float32(0.0008776476), 'neutral': np.float32(1.283481)}, 'dominant_emotion': 'happy'}]\n"
     ]
    },
    {
     "name": "stderr",
     "output_type": "stream",
     "text": [
      "Action: emotion: 100%|██████████| 2/2 [00:01<00:00,  1.96it/s]\n"
     ]
    },
    {
     "name": "stdout",
     "output_type": "stream",
     "text": [
      "[{'gender': {'Woman': np.float32(12.538444), 'Man': np.float32(87.46155)}, 'dominant_gender': 'Man', 'region': {'x': 255, 'y': 136, 'w': 141, 'h': 141, 'left_eye': None, 'right_eye': None}, 'face_confidence': np.float64(0.94), 'emotion': {'angry': np.float32(0.00041207307), 'disgust': np.float32(8.086134e-05), 'fear': np.float32(0.02210229), 'happy': np.float32(98.3148), 'sad': np.float32(0.16876572), 'surprise': np.float32(0.000116605814), 'neutral': np.float32(1.4937228)}, 'dominant_emotion': 'happy'}]\n"
     ]
    },
    {
     "name": "stderr",
     "output_type": "stream",
     "text": [
      "Action: emotion: 100%|██████████| 2/2 [00:01<00:00,  1.73it/s]\n"
     ]
    },
    {
     "name": "stdout",
     "output_type": "stream",
     "text": [
      "[{'gender': {'Woman': np.float32(6.8345895), 'Man': np.float32(93.16541)}, 'dominant_gender': 'Man', 'region': {'x': 254, 'y': 136, 'w': 143, 'h': 143, 'left_eye': None, 'right_eye': None}, 'face_confidence': np.float64(0.91), 'emotion': {'angry': np.float32(0.15940252), 'disgust': np.float32(0.100188494), 'fear': np.float32(10.824922), 'happy': np.float32(77.81409), 'sad': np.float32(8.503578), 'surprise': np.float32(0.017160248), 'neutral': np.float32(2.5806575)}, 'dominant_emotion': 'happy'}]\n"
     ]
    },
    {
     "name": "stderr",
     "output_type": "stream",
     "text": [
      "Action: emotion: 100%|██████████| 2/2 [00:01<00:00,  1.78it/s]\n"
     ]
    },
    {
     "name": "stdout",
     "output_type": "stream",
     "text": [
      "[{'gender': {'Woman': np.float32(2.4003003), 'Man': np.float32(97.5997)}, 'dominant_gender': 'Man', 'region': {'x': 256, 'y': 137, 'w': 139, 'h': 139, 'left_eye': (352, 194), 'right_eye': (297, 194)}, 'face_confidence': np.float64(0.92), 'emotion': {'angry': np.float32(2.165058), 'disgust': np.float32(0.0003131526), 'fear': np.float32(11.045512), 'happy': np.float32(0.013697282), 'sad': np.float32(80.88438), 'surprise': np.float32(0.004974253), 'neutral': np.float32(5.886072)}, 'dominant_emotion': 'sad'}]\n"
     ]
    },
    {
     "name": "stderr",
     "output_type": "stream",
     "text": [
      "Action: emotion: 100%|██████████| 2/2 [00:01<00:00,  1.92it/s]\n"
     ]
    },
    {
     "name": "stdout",
     "output_type": "stream",
     "text": [
      "[{'gender': {'Woman': np.float32(1.8523186), 'Man': np.float32(98.14768)}, 'dominant_gender': 'Man', 'region': {'x': 256, 'y': 134, 'w': 144, 'h': 144, 'left_eye': None, 'right_eye': None}, 'face_confidence': np.float64(0.9), 'emotion': {'angry': np.float32(4.6693225), 'disgust': np.float32(0.00024044562), 'fear': np.float32(15.635198), 'happy': np.float32(0.020372888), 'sad': np.float32(45.776424), 'surprise': np.float32(0.0038992811), 'neutral': np.float32(33.894547)}, 'dominant_emotion': 'sad'}]\n"
     ]
    },
    {
     "name": "stderr",
     "output_type": "stream",
     "text": [
      "Action: emotion: 100%|██████████| 2/2 [00:01<00:00,  1.76it/s]\n"
     ]
    },
    {
     "name": "stdout",
     "output_type": "stream",
     "text": [
      "[{'gender': {'Woman': np.float32(2.0750487), 'Man': np.float32(97.92496)}, 'dominant_gender': 'Man', 'region': {'x': 256, 'y': 135, 'w': 141, 'h': 141, 'left_eye': (353, 193), 'right_eye': (297, 193)}, 'face_confidence': np.float64(0.9), 'emotion': {'angry': np.float32(4.4914646), 'disgust': np.float32(0.001652338), 'fear': np.float32(8.684107), 'happy': np.float32(0.048228294), 'sad': np.float32(37.55695), 'surprise': np.float32(0.009352558), 'neutral': np.float32(49.208252)}, 'dominant_emotion': 'neutral'}]\n"
     ]
    },
    {
     "name": "stderr",
     "output_type": "stream",
     "text": [
      "Action: emotion: 100%|██████████| 2/2 [00:01<00:00,  1.73it/s]\n"
     ]
    },
    {
     "name": "stdout",
     "output_type": "stream",
     "text": [
      "[{'gender': {'Woman': np.float32(1.7340729), 'Man': np.float32(98.26592)}, 'dominant_gender': 'Man', 'region': {'x': 257, 'y': 133, 'w': 144, 'h': 144, 'left_eye': None, 'right_eye': None}, 'face_confidence': np.float64(0.9), 'emotion': {'angry': np.float32(3.1354363), 'disgust': np.float32(0.000258523), 'fear': np.float32(12.321613), 'happy': np.float32(0.026720833), 'sad': np.float32(52.491993), 'surprise': np.float32(0.0059663244), 'neutral': np.float32(32.018013)}, 'dominant_emotion': 'sad'}]\n"
     ]
    },
    {
     "name": "stderr",
     "output_type": "stream",
     "text": [
      "Action: emotion: 100%|██████████| 2/2 [00:01<00:00,  1.71it/s]\n"
     ]
    },
    {
     "name": "stdout",
     "output_type": "stream",
     "text": [
      "[{'gender': {'Woman': np.float32(1.581486), 'Man': np.float32(98.41852)}, 'dominant_gender': 'Man', 'region': {'x': 257, 'y': 133, 'w': 143, 'h': 143, 'left_eye': None, 'right_eye': None}, 'face_confidence': np.float64(0.88), 'emotion': {'angry': np.float32(4.087611), 'disgust': np.float32(0.002584561), 'fear': np.float32(11.18385), 'happy': np.float32(0.0700654), 'sad': np.float32(54.175476), 'surprise': np.float32(0.008738156), 'neutral': np.float32(30.471678)}, 'dominant_emotion': 'sad'}]\n"
     ]
    },
    {
     "name": "stderr",
     "output_type": "stream",
     "text": [
      "Action: emotion: 100%|██████████| 2/2 [00:01<00:00,  1.86it/s]\n"
     ]
    },
    {
     "name": "stdout",
     "output_type": "stream",
     "text": [
      "[{'gender': {'Woman': np.float32(1.2061237), 'Man': np.float32(98.79388)}, 'dominant_gender': 'Man', 'region': {'x': 255, 'y': 132, 'w': 144, 'h': 144, 'left_eye': None, 'right_eye': None}, 'face_confidence': np.float64(0.89), 'emotion': {'angry': np.float32(5.7144356), 'disgust': np.float32(0.07528384), 'fear': np.float32(55.63874), 'happy': np.float32(0.067465976), 'sad': np.float32(18.69148), 'surprise': np.float32(0.040109113), 'neutral': np.float32(19.772486)}, 'dominant_emotion': 'fear'}]\n"
     ]
    },
    {
     "name": "stderr",
     "output_type": "stream",
     "text": [
      "Action: emotion: 100%|██████████| 2/2 [00:01<00:00,  1.76it/s]\n"
     ]
    },
    {
     "name": "stdout",
     "output_type": "stream",
     "text": [
      "[{'gender': {'Woman': np.float32(1.440355), 'Man': np.float32(98.55965)}, 'dominant_gender': 'Man', 'region': {'x': 258, 'y': 134, 'w': 143, 'h': 143, 'left_eye': None, 'right_eye': None}, 'face_confidence': np.float64(0.91), 'emotion': {'angry': np.float32(3.4830987), 'disgust': np.float32(0.0006407061), 'fear': np.float32(11.855003), 'happy': np.float32(0.037616175), 'sad': np.float32(52.756733), 'surprise': np.float32(0.002482026), 'neutral': np.float32(31.864428)}, 'dominant_emotion': 'sad'}]\n"
     ]
    },
    {
     "name": "stderr",
     "output_type": "stream",
     "text": [
      "Action: emotion: 100%|██████████| 2/2 [00:01<00:00,  1.76it/s]\n"
     ]
    },
    {
     "name": "stdout",
     "output_type": "stream",
     "text": [
      "[{'gender': {'Woman': np.float32(1.3776362), 'Man': np.float32(98.62236)}, 'dominant_gender': 'Man', 'region': {'x': 256, 'y': 132, 'w': 146, 'h': 146, 'left_eye': None, 'right_eye': None}, 'face_confidence': np.float64(0.9), 'emotion': {'angry': np.float32(2.6738155), 'disgust': np.float32(0.002107445), 'fear': np.float32(37.212337), 'happy': np.float32(0.16746123), 'sad': np.float32(21.09222), 'surprise': np.float32(0.020602494), 'neutral': np.float32(38.831448)}, 'dominant_emotion': 'neutral'}]\n"
     ]
    },
    {
     "name": "stderr",
     "output_type": "stream",
     "text": [
      "Action: emotion: 100%|██████████| 2/2 [00:00<00:00,  2.02it/s]\n"
     ]
    },
    {
     "name": "stdout",
     "output_type": "stream",
     "text": [
      "[{'gender': {'Woman': np.float32(1.2447771), 'Man': np.float32(98.75522)}, 'dominant_gender': 'Man', 'region': {'x': 256, 'y': 131, 'w': 150, 'h': 150, 'left_eye': None, 'right_eye': None}, 'face_confidence': np.float64(0.92), 'emotion': {'angry': np.float32(2.428487), 'disgust': np.float32(0.0004574852), 'fear': np.float32(27.082584), 'happy': np.float32(0.14627463), 'sad': np.float32(33.847546), 'surprise': np.float32(0.007965565), 'neutral': np.float32(36.48669)}, 'dominant_emotion': 'neutral'}]\n"
     ]
    },
    {
     "name": "stderr",
     "output_type": "stream",
     "text": [
      "Action: emotion: 100%|██████████| 2/2 [00:01<00:00,  1.85it/s]\n"
     ]
    },
    {
     "name": "stdout",
     "output_type": "stream",
     "text": [
      "[{'gender': {'Woman': np.float32(1.4395231), 'Man': np.float32(98.56047)}, 'dominant_gender': 'Man', 'region': {'x': 258, 'y': 133, 'w': 147, 'h': 147, 'left_eye': None, 'right_eye': None}, 'face_confidence': np.float64(0.91), 'emotion': {'angry': np.float32(1.8259864), 'disgust': np.float32(0.00011913438), 'fear': np.float32(9.5390005), 'happy': np.float32(0.079304904), 'sad': np.float32(34.665977), 'surprise': np.float32(0.002483726), 'neutral': np.float32(53.88713)}, 'dominant_emotion': 'neutral'}]\n"
     ]
    },
    {
     "name": "stderr",
     "output_type": "stream",
     "text": [
      "Action: emotion: 100%|██████████| 2/2 [00:01<00:00,  1.72it/s]\n"
     ]
    },
    {
     "name": "stdout",
     "output_type": "stream",
     "text": [
      "[{'gender': {'Woman': np.float32(0.66689026), 'Man': np.float32(99.333115)}, 'dominant_gender': 'Man', 'region': {'x': 205, 'y': 106, 'w': 169, 'h': 169, 'left_eye': None, 'right_eye': None}, 'face_confidence': np.float64(0.9), 'emotion': {'angry': np.float32(0.43109226), 'disgust': np.float32(0.00069898984), 'fear': np.float32(3.1488802), 'happy': np.float32(0.030977296), 'sad': np.float32(89.135574), 'surprise': np.float32(0.03324717), 'neutral': np.float32(7.2195344)}, 'dominant_emotion': 'sad'}]\n"
     ]
    },
    {
     "name": "stderr",
     "output_type": "stream",
     "text": [
      "Action: emotion: 100%|██████████| 2/2 [00:01<00:00,  1.24it/s]\n"
     ]
    },
    {
     "name": "stdout",
     "output_type": "stream",
     "text": [
      "[{'gender': {'Woman': np.float32(0.4843145), 'Man': np.float32(99.515686)}, 'dominant_gender': 'Man', 'region': {'x': 204, 'y': 105, 'w': 191, 'h': 191, 'left_eye': (329, 187), 'right_eye': (264, 183)}, 'face_confidence': np.float64(0.91), 'emotion': {'angry': np.float32(6.531342), 'disgust': np.float32(0.0025527966), 'fear': np.float32(9.837361), 'happy': np.float32(0.010624386), 'sad': np.float32(64.707794), 'surprise': np.float32(0.0051772506), 'neutral': np.float32(18.905142)}, 'dominant_emotion': 'sad'}]\n"
     ]
    },
    {
     "name": "stderr",
     "output_type": "stream",
     "text": [
      "Action: emotion: 100%|██████████| 2/2 [00:01<00:00,  1.54it/s]\n"
     ]
    },
    {
     "name": "stdout",
     "output_type": "stream",
     "text": [
      "[{'gender': {'Woman': np.float32(1.0801134), 'Man': np.float32(98.91988)}, 'dominant_gender': 'Man', 'region': {'x': 237, 'y': 114, 'w': 175, 'h': 175, 'left_eye': None, 'right_eye': None}, 'face_confidence': np.float64(0.91), 'emotion': {'angry': np.float32(0.65603155), 'disgust': np.float32(0.00064354425), 'fear': np.float32(58.836246), 'happy': np.float32(0.0031046234), 'sad': np.float32(37.662907), 'surprise': np.float32(0.0003752604), 'neutral': np.float32(2.84069)}, 'dominant_emotion': 'fear'}]\n"
     ]
    },
    {
     "name": "stderr",
     "output_type": "stream",
     "text": [
      "Action: emotion: 100%|██████████| 2/2 [00:01<00:00,  1.77it/s]\n"
     ]
    },
    {
     "name": "stdout",
     "output_type": "stream",
     "text": [
      "[{'gender': {'Woman': np.float32(2.563533), 'Man': np.float32(97.43646)}, 'dominant_gender': 'Man', 'region': {'x': 218, 'y': 111, 'w': 182, 'h': 182, 'left_eye': (342, 191), 'right_eye': (274, 185)}, 'face_confidence': np.float64(0.89), 'emotion': {'angry': np.float32(16.765121), 'disgust': np.float32(0.010367585), 'fear': np.float32(8.274502), 'happy': np.float32(0.0008775947), 'sad': np.float32(70.6363), 'surprise': np.float32(0.022261627), 'neutral': np.float32(4.2905693)}, 'dominant_emotion': 'sad'}]\n"
     ]
    }
   ],
   "source": [
    "import cv2\n",
    "from deepface import DeepFace\n",
    "\n",
    "vid = cv2.VideoCapture(0)\n",
    "\n",
    "# font \n",
    "font = cv2.FONT_HERSHEY_SIMPLEX\n",
    "fontScale = 1\n",
    "color = (255, 0, 0) \n",
    "thickness = 2 \n",
    "pos = (50, 50) \n",
    "  \n",
    "while(True):      \n",
    "    # fotograma a fotograma\n",
    "    ret, frame = vid.read()\n",
    "  \n",
    "    if ret:  \n",
    "        obj = DeepFace.analyze(img_path = frame, enforce_detection=False, actions =['gender', 'emotion'])\n",
    "        print(obj)\n",
    "\n",
    "        # Primera cara\n",
    "        image = cv2.putText(frame, str(obj[0]['dominant_gender']+' '+obj[0]['dominant_emotion']), pos, font,  \n",
    "                        fontScale, color, thickness, cv2.LINE_AA) \n",
    "        # Muestra fotograma\n",
    "        cv2.imshow('Vid', frame)\n",
    "    \n",
    "    # Detenemos pulsado ESC\n",
    "    if cv2.waitKey(20) == 27:\n",
    "        break\n",
    "  \n",
    "# Libera el objeto de captura\n",
    "vid.release()\n",
    "# Destruye ventanas\n",
    "cv2.destroyAllWindows()"
   ]
  }
 ],
 "metadata": {
  "kernelspec": {
   "display_name": "VC_P5",
   "language": "python",
   "name": "python3"
  },
  "language_info": {
   "codemirror_mode": {
    "name": "ipython",
    "version": 3
   },
   "file_extension": ".py",
   "mimetype": "text/x-python",
   "name": "python",
   "nbconvert_exporter": "python",
   "pygments_lexer": "ipython3",
   "version": "3.11.5"
  }
 },
 "nbformat": 4,
 "nbformat_minor": 5
}
