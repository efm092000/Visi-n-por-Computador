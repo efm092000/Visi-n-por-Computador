{
 "cells": [
  {
   "cell_type": "markdown",
   "id": "c6fd4a50",
   "metadata": {},
   "source": [
    "# Process image folder"
   ]
  },
  {
   "cell_type": "code",
   "execution_count": 1,
   "id": "frank-length",
   "metadata": {},
   "outputs": [
    {
     "name": "stdout",
     "output_type": "stream",
     "text": [
      "WARNING:tensorflow:From c:\\Users\\efm09\\anaconda3\\envs\\VC_P5\\Lib\\site-packages\\tf_keras\\src\\losses.py:2976: The name tf.losses.sparse_softmax_cross_entropy is deprecated. Please use tf.compat.v1.losses.sparse_softmax_cross_entropy instead.\n",
      "\n",
      "24-11-07 17:18:42 - Directory C:\\Users\\efm09\\.deepface has been created\n",
      "24-11-07 17:18:42 - Directory C:\\Users\\efm09\\.deepface\\weights has been created\n",
      "./faces\n"
     ]
    },
    {
     "name": "stderr",
     "output_type": "stream",
     "text": [
      "Action: age:   0%|          | 0/4 [00:00<?, ?it/s]    "
     ]
    },
    {
     "name": "stdout",
     "output_type": "stream",
     "text": [
      "24-11-07 17:18:45 - age_model_weights.h5 will be downloaded...\n"
     ]
    },
    {
     "name": "stderr",
     "output_type": "stream",
     "text": [
      "Downloading...\n",
      "From: https://github.com/serengil/deepface_models/releases/download/v1.0/age_model_weights.h5\n",
      "To: C:\\Users\\efm09\\.deepface\\weights\\age_model_weights.h5\n",
      "100%|██████████| 539M/539M [00:55<00:00, 9.76MB/s]\n",
      "Action: gender:  25%|██▌       | 1/4 [01:01<03:03, 61.18s/it]"
     ]
    },
    {
     "name": "stdout",
     "output_type": "stream",
     "text": [
      "24-11-07 17:19:46 - gender_model_weights.h5 will be downloaded...\n"
     ]
    },
    {
     "name": "stderr",
     "output_type": "stream",
     "text": [
      "Downloading...\n",
      "From: https://github.com/serengil/deepface_models/releases/download/v1.0/gender_model_weights.h5\n",
      "To: C:\\Users\\efm09\\.deepface\\weights\\gender_model_weights.h5\n",
      "100%|██████████| 537M/537M [00:58<00:00, 9.24MB/s]\n",
      "Action: race:  50%|█████     | 2/4 [02:04<02:04, 62.43s/it]  "
     ]
    },
    {
     "name": "stdout",
     "output_type": "stream",
     "text": [
      "24-11-07 17:20:49 - race_model_single_batch.h5 will be downloaded...\n"
     ]
    },
    {
     "name": "stderr",
     "output_type": "stream",
     "text": [
      "Downloading...\n",
      "From: https://github.com/serengil/deepface_models/releases/download/v1.0/race_model_single_batch.h5\n",
      "To: C:\\Users\\efm09\\.deepface\\weights\\race_model_single_batch.h5\n",
      "100%|██████████| 537M/537M [00:56<00:00, 9.49MB/s]\n",
      "Action: emotion:  75%|███████▌  | 3/4 [03:06<01:02, 62.30s/it]"
     ]
    },
    {
     "name": "stdout",
     "output_type": "stream",
     "text": [
      "24-11-07 17:21:50 - facial_expression_model_weights.h5 will be downloaded...\n"
     ]
    },
    {
     "name": "stderr",
     "output_type": "stream",
     "text": [
      "Downloading...\n",
      "From: https://github.com/serengil/deepface_models/releases/download/v1.0/facial_expression_model_weights.h5\n",
      "To: C:\\Users\\efm09\\.deepface\\weights\\facial_expression_model_weights.h5\n",
      "100%|██████████| 5.98M/5.98M [00:00<00:00, 9.50MB/s]\n",
      "Action: emotion: 100%|██████████| 4/4 [03:09<00:00, 47.25s/it]\n"
     ]
    },
    {
     "name": "stdout",
     "output_type": "stream",
     "text": [
      "face.jpg\n",
      "[{'age': 31, 'region': {'x': 166, 'y': 204, 'w': 698, 'h': 698, 'left_eye': (626, 484), 'right_eye': (375, 484)}, 'face_confidence': np.float64(0.89), 'gender': {'Woman': np.float32(99.95741), 'Man': np.float32(0.042590994)}, 'dominant_gender': 'Woman', 'race': {'asian': np.float32(97.812325), 'indian': np.float32(0.56597286), 'black': np.float32(0.002863818), 'white': np.float32(0.11595312), 'middle eastern': np.float32(0.0014399509), 'latino hispanic': np.float32(1.5014453)}, 'dominant_race': 'asian', 'emotion': {'angry': np.float32(1.194915e-08), 'disgust': np.float32(7.244326e-15), 'fear': np.float32(4.2096505e-07), 'happy': np.float32(97.77508), 'sad': np.float32(6.344627e-07), 'surprise': np.float32(0.00028946984), 'neutral': np.float32(2.2246323)}, 'dominant_emotion': 'happy'}]\n"
     ]
    },
    {
     "name": "stderr",
     "output_type": "stream",
     "text": [
      "Action: emotion: 100%|██████████| 4/4 [00:03<00:00,  1.12it/s]\n"
     ]
    },
    {
     "name": "stdout",
     "output_type": "stream",
     "text": [
      "face2.jpg\n",
      "[{'age': 35, 'region': {'x': 148, 'y': 213, 'w': 702, 'h': 702, 'left_eye': (624, 480), 'right_eye': (387, 485)}, 'face_confidence': np.float64(0.91), 'gender': {'Woman': np.float32(0.0066681476), 'Man': np.float32(99.99334)}, 'dominant_gender': 'Man', 'race': {'asian': np.float32(1.4848848e-06), 'indian': np.float32(5.239777e-07), 'black': np.float32(1.7740264e-08), 'white': np.float32(99.98429), 'middle eastern': np.float32(0.007816269), 'latino hispanic': np.float32(0.007900587)}, 'dominant_race': 'white', 'emotion': {'angry': np.float32(1.8527892e-07), 'disgust': np.float32(8.723328e-11), 'fear': np.float32(1.459733e-05), 'happy': np.float32(99.99937), 'sad': np.float32(1.9650068e-07), 'surprise': np.float32(9.5538375e-08), 'neutral': np.float32(0.00061782176)}, 'dominant_emotion': 'happy'}]\n"
     ]
    },
    {
     "name": "stderr",
     "output_type": "stream",
     "text": [
      "Action: emotion: 100%|██████████| 4/4 [00:01<00:00,  2.45it/s]"
     ]
    },
    {
     "name": "stdout",
     "output_type": "stream",
     "text": [
      "happy.jpg\n",
      "[{'age': 31, 'region': {'x': 115, 'y': 92, 'w': 173, 'h': 173, 'left_eye': (225, 154), 'right_eye': (170, 161)}, 'face_confidence': np.float64(0.95), 'gender': {'Woman': np.float32(0.6617674), 'Man': np.float32(99.338234)}, 'dominant_gender': 'Man', 'race': {'asian': np.float32(0.06889486), 'indian': np.float32(0.058618248), 'black': np.float32(0.0022339995), 'white': np.float32(83.98855), 'middle eastern': np.float32(5.9177833), 'latino hispanic': np.float32(9.96393)}, 'dominant_race': 'white', 'emotion': {'angry': np.float32(2.5586344e-10), 'disgust': np.float32(1.2794221e-13), 'fear': np.float32(2.0694739e-10), 'happy': np.float32(99.99789), 'sad': np.float32(8.951407e-09), 'surprise': np.float32(2.143122e-10), 'neutral': np.float32(0.0021105136)}, 'dominant_emotion': 'happy'}]\n"
     ]
    },
    {
     "name": "stderr",
     "output_type": "stream",
     "text": [
      "\n"
     ]
    }
   ],
   "source": [
    "import os\n",
    "import cv2\n",
    "from deepface import DeepFace\n",
    "\n",
    "folder = './faces'\n",
    "\n",
    "print(folder)\n",
    "\n",
    "for file_name in os.listdir(folder):\n",
    "    # Asume imágenes en formato png o jpg\n",
    "    if file_name.endswith('.png') or file_name.endswith('.jpg'):\n",
    "        # Procesa la imagen que asume hay cara, no fuerza la detección\n",
    "        obj = DeepFace.analyze(img_path = os.path.join(folder, file_name), enforce_detection=False, actions =['age', 'gender', 'race', 'emotion'])\n",
    "        print(file_name)\n",
    "        print(obj)\n",
    "        #print(obj[\"region\"])\n",
    "        #print(obj[\"age\"])      \n",
    "        #print(obj[\"gender\"])      \n",
    "        #print(obj[\"race\"])       \n",
    "        #print(obj[\"dominant_race\"]) \n",
    "        #print(obj[\"emotion\"])\n",
    "        #print(obj[\"dominant_emotion\"])\n",
    "       \n",
    "        \n"
   ]
  },
  {
   "attachments": {},
   "cell_type": "markdown",
   "id": "643c68d5",
   "metadata": {},
   "source": [
    "# Process from webcam"
   ]
  },
  {
   "cell_type": "code",
   "execution_count": 2,
   "id": "6b1843aa",
   "metadata": {},
   "outputs": [
    {
     "name": "stderr",
     "output_type": "stream",
     "text": [
      "Action: emotion: 100%|██████████| 2/2 [00:00<00:00,  4.16it/s]\n"
     ]
    },
    {
     "name": "stdout",
     "output_type": "stream",
     "text": [
      "[{'gender': {'Woman': np.float32(49.401604), 'Man': np.float32(50.5984)}, 'dominant_gender': 'Man', 'region': {'x': 0, 'y': 0, 'w': 639, 'h': 479, 'left_eye': None, 'right_eye': None}, 'face_confidence': 0, 'emotion': {'angry': np.float32(82.07288), 'disgust': np.float32(0.001593163), 'fear': np.float32(0.056605555), 'happy': np.float32(2.0157125), 'sad': np.float32(3.0057788), 'surprise': np.float32(2.8133185), 'neutral': np.float32(10.034111)}, 'dominant_emotion': 'angry'}]\n"
     ]
    },
    {
     "name": "stderr",
     "output_type": "stream",
     "text": [
      "Action: emotion: 100%|██████████| 2/2 [00:00<00:00,  2.94it/s]\n"
     ]
    },
    {
     "name": "stdout",
     "output_type": "stream",
     "text": [
      "[{'gender': {'Woman': np.float32(49.477993), 'Man': np.float32(50.522007)}, 'dominant_gender': 'Man', 'region': {'x': 0, 'y': 0, 'w': 639, 'h': 479, 'left_eye': None, 'right_eye': None}, 'face_confidence': 0, 'emotion': {'angry': np.float32(82.132935), 'disgust': np.float32(0.0014854851), 'fear': np.float32(0.05494297), 'happy': np.float32(2.0344174), 'sad': np.float32(2.9836369), 'surprise': np.float32(2.6708689), 'neutral': np.float32(10.121715)}, 'dominant_emotion': 'angry'}]\n"
     ]
    },
    {
     "name": "stderr",
     "output_type": "stream",
     "text": [
      "Action: emotion: 100%|██████████| 2/2 [00:00<00:00,  3.87it/s]\n"
     ]
    },
    {
     "name": "stdout",
     "output_type": "stream",
     "text": [
      "[{'gender': {'Woman': np.float32(47.511898), 'Man': np.float32(52.488106)}, 'dominant_gender': 'Man', 'region': {'x': 0, 'y': 0, 'w': 639, 'h': 479, 'left_eye': None, 'right_eye': None}, 'face_confidence': 0, 'emotion': {'angry': np.float32(81.00903), 'disgust': np.float32(0.00036595738), 'fear': np.float32(0.007357465), 'happy': np.float32(1.4669719), 'sad': np.float32(2.0760984), 'surprise': np.float32(1.791419), 'neutral': np.float32(13.64876)}, 'dominant_emotion': 'angry'}]\n"
     ]
    },
    {
     "name": "stderr",
     "output_type": "stream",
     "text": [
      "Action: emotion: 100%|██████████| 2/2 [00:00<00:00,  4.43it/s]\n"
     ]
    },
    {
     "name": "stdout",
     "output_type": "stream",
     "text": [
      "[{'gender': {'Woman': np.float32(47.067917), 'Man': np.float32(52.932083)}, 'dominant_gender': 'Man', 'region': {'x': 0, 'y': 0, 'w': 639, 'h': 479, 'left_eye': None, 'right_eye': None}, 'face_confidence': 0, 'emotion': {'angry': np.float32(81.230064), 'disgust': np.float32(0.0004161087), 'fear': np.float32(0.008878301), 'happy': np.float32(1.4707073), 'sad': np.float32(2.1211557), 'surprise': np.float32(1.7870997), 'neutral': np.float32(13.381673)}, 'dominant_emotion': 'angry'}]\n"
     ]
    },
    {
     "name": "stderr",
     "output_type": "stream",
     "text": [
      "Action: emotion: 100%|██████████| 2/2 [00:00<00:00,  4.34it/s]\n"
     ]
    },
    {
     "name": "stdout",
     "output_type": "stream",
     "text": [
      "[{'gender': {'Woman': np.float32(47.4024), 'Man': np.float32(52.5976)}, 'dominant_gender': 'Man', 'region': {'x': 0, 'y': 0, 'w': 639, 'h': 479, 'left_eye': None, 'right_eye': None}, 'face_confidence': 0, 'emotion': {'angry': np.float32(81.3136), 'disgust': np.float32(0.0003755437), 'fear': np.float32(0.007989034), 'happy': np.float32(1.4869801), 'sad': np.float32(2.1140606), 'surprise': np.float32(1.75354), 'neutral': np.float32(13.323458)}, 'dominant_emotion': 'angry'}]\n"
     ]
    },
    {
     "name": "stderr",
     "output_type": "stream",
     "text": [
      "Action: emotion: 100%|██████████| 2/2 [00:00<00:00,  4.42it/s]\n"
     ]
    },
    {
     "name": "stdout",
     "output_type": "stream",
     "text": [
      "[{'gender': {'Woman': np.float32(47.506065), 'Man': np.float32(52.49393)}, 'dominant_gender': 'Man', 'region': {'x': 0, 'y': 0, 'w': 639, 'h': 479, 'left_eye': None, 'right_eye': None}, 'face_confidence': 0, 'emotion': {'angry': np.float32(81.307396), 'disgust': np.float32(0.00039321827), 'fear': np.float32(0.0083964635), 'happy': np.float32(1.424558), 'sad': np.float32(2.097275), 'surprise': np.float32(1.7574286), 'neutral': np.float32(13.404552)}, 'dominant_emotion': 'angry'}]\n"
     ]
    },
    {
     "name": "stderr",
     "output_type": "stream",
     "text": [
      "Action: emotion: 100%|██████████| 2/2 [00:00<00:00,  3.92it/s]\n"
     ]
    },
    {
     "name": "stdout",
     "output_type": "stream",
     "text": [
      "[{'gender': {'Woman': np.float32(47.221172), 'Man': np.float32(52.778828)}, 'dominant_gender': 'Man', 'region': {'x': 0, 'y': 0, 'w': 639, 'h': 479, 'left_eye': None, 'right_eye': None}, 'face_confidence': 0, 'emotion': {'angry': np.float32(81.48647), 'disgust': np.float32(0.0003843523), 'fear': np.float32(0.008676339), 'happy': np.float32(1.3972042), 'sad': np.float32(2.1065469), 'surprise': np.float32(1.7232623), 'neutral': np.float32(13.277462)}, 'dominant_emotion': 'angry'}]\n"
     ]
    },
    {
     "name": "stderr",
     "output_type": "stream",
     "text": [
      "Action: emotion: 100%|██████████| 2/2 [00:00<00:00,  4.10it/s]\n"
     ]
    },
    {
     "name": "stdout",
     "output_type": "stream",
     "text": [
      "[{'gender': {'Woman': np.float32(47.5945), 'Man': np.float32(52.405502)}, 'dominant_gender': 'Man', 'region': {'x': 0, 'y': 0, 'w': 639, 'h': 479, 'left_eye': None, 'right_eye': None}, 'face_confidence': 0, 'emotion': {'angry': np.float32(81.18303), 'disgust': np.float32(0.00038964805), 'fear': np.float32(0.007891109), 'happy': np.float32(1.435515), 'sad': np.float32(2.0871766), 'surprise': np.float32(1.7254422), 'neutral': np.float32(13.56056)}, 'dominant_emotion': 'angry'}]\n"
     ]
    },
    {
     "name": "stderr",
     "output_type": "stream",
     "text": [
      "Action: emotion: 100%|██████████| 2/2 [00:00<00:00,  4.33it/s]\n"
     ]
    },
    {
     "name": "stdout",
     "output_type": "stream",
     "text": [
      "[{'gender': {'Woman': np.float32(47.197536), 'Man': np.float32(52.802467)}, 'dominant_gender': 'Man', 'region': {'x': 0, 'y': 0, 'w': 639, 'h': 479, 'left_eye': None, 'right_eye': None}, 'face_confidence': 0, 'emotion': {'angry': np.float32(81.28517), 'disgust': np.float32(0.00035488626), 'fear': np.float32(0.0076233745), 'happy': np.float32(1.418038), 'sad': np.float32(2.0604584), 'surprise': np.float32(1.7472401), 'neutral': np.float32(13.481112)}, 'dominant_emotion': 'angry'}]\n"
     ]
    },
    {
     "name": "stderr",
     "output_type": "stream",
     "text": [
      "Action: emotion: 100%|██████████| 2/2 [00:00<00:00,  4.31it/s]\n"
     ]
    },
    {
     "name": "stdout",
     "output_type": "stream",
     "text": [
      "[{'gender': {'Woman': np.float32(47.441185), 'Man': np.float32(52.558815)}, 'dominant_gender': 'Man', 'region': {'x': 0, 'y': 0, 'w': 639, 'h': 479, 'left_eye': None, 'right_eye': None}, 'face_confidence': 0, 'emotion': {'angry': np.float32(81.12309), 'disgust': np.float32(0.0003940082), 'fear': np.float32(0.008232015), 'happy': np.float32(1.4136091), 'sad': np.float32(2.096491), 'surprise': np.float32(1.7575345), 'neutral': np.float32(13.600653)}, 'dominant_emotion': 'angry'}]\n"
     ]
    },
    {
     "name": "stderr",
     "output_type": "stream",
     "text": [
      "Action: emotion: 100%|██████████| 2/2 [00:00<00:00,  4.30it/s]\n"
     ]
    },
    {
     "name": "stdout",
     "output_type": "stream",
     "text": [
      "[{'gender': {'Woman': np.float32(47.15672), 'Man': np.float32(52.843277)}, 'dominant_gender': 'Man', 'region': {'x': 0, 'y': 0, 'w': 639, 'h': 479, 'left_eye': None, 'right_eye': None}, 'face_confidence': 0, 'emotion': {'angry': np.float32(81.2576), 'disgust': np.float32(0.0003745253), 'fear': np.float32(0.008116093), 'happy': np.float32(1.4925193), 'sad': np.float32(2.10109), 'surprise': np.float32(1.7614355), 'neutral': np.float32(13.378861)}, 'dominant_emotion': 'angry'}]\n"
     ]
    },
    {
     "name": "stderr",
     "output_type": "stream",
     "text": [
      "Action: emotion: 100%|██████████| 2/2 [00:00<00:00,  4.37it/s]\n"
     ]
    },
    {
     "name": "stdout",
     "output_type": "stream",
     "text": [
      "[{'gender': {'Woman': np.float32(47.034985), 'Man': np.float32(52.965008)}, 'dominant_gender': 'Man', 'region': {'x': 0, 'y': 0, 'w': 639, 'h': 479, 'left_eye': None, 'right_eye': None}, 'face_confidence': 0, 'emotion': {'angry': np.float32(81.44478), 'disgust': np.float32(0.00035261174), 'fear': np.float32(0.008026218), 'happy': np.float32(1.4309168), 'sad': np.float32(2.1221411), 'surprise': np.float32(1.6578325), 'neutral': np.float32(13.335955)}, 'dominant_emotion': 'angry'}]\n"
     ]
    },
    {
     "name": "stderr",
     "output_type": "stream",
     "text": [
      "Action: emotion: 100%|██████████| 2/2 [00:00<00:00,  4.43it/s]\n"
     ]
    },
    {
     "name": "stdout",
     "output_type": "stream",
     "text": [
      "[{'gender': {'Woman': np.float32(47.18488), 'Man': np.float32(52.815117)}, 'dominant_gender': 'Man', 'region': {'x': 0, 'y': 0, 'w': 639, 'h': 479, 'left_eye': None, 'right_eye': None}, 'face_confidence': 0, 'emotion': {'angry': np.float32(81.4994), 'disgust': np.float32(0.00037707904), 'fear': np.float32(0.008321007), 'happy': np.float32(1.407342), 'sad': np.float32(2.1061506), 'surprise': np.float32(1.6844162), 'neutral': np.float32(13.294008)}, 'dominant_emotion': 'angry'}]\n"
     ]
    },
    {
     "name": "stderr",
     "output_type": "stream",
     "text": [
      "Action: emotion: 100%|██████████| 2/2 [00:00<00:00,  4.36it/s]\n"
     ]
    },
    {
     "name": "stdout",
     "output_type": "stream",
     "text": [
      "[{'gender': {'Woman': np.float32(47.48551), 'Man': np.float32(52.51449)}, 'dominant_gender': 'Man', 'region': {'x': 0, 'y': 0, 'w': 639, 'h': 479, 'left_eye': None, 'right_eye': None}, 'face_confidence': 0, 'emotion': {'angry': np.float32(81.21459), 'disgust': np.float32(0.0003691772), 'fear': np.float32(0.007927667), 'happy': np.float32(1.4527309), 'sad': np.float32(2.0919652), 'surprise': np.float32(1.7834213), 'neutral': np.float32(13.449001)}, 'dominant_emotion': 'angry'}]\n"
     ]
    },
    {
     "name": "stderr",
     "output_type": "stream",
     "text": [
      "Action: emotion: 100%|██████████| 2/2 [00:00<00:00,  4.02it/s]\n"
     ]
    },
    {
     "name": "stdout",
     "output_type": "stream",
     "text": [
      "[{'gender': {'Woman': np.float32(47.530952), 'Man': np.float32(52.46905)}, 'dominant_gender': 'Man', 'region': {'x': 0, 'y': 0, 'w': 639, 'h': 479, 'left_eye': None, 'right_eye': None}, 'face_confidence': 0, 'emotion': {'angry': np.float32(81.4623), 'disgust': np.float32(0.00037082555), 'fear': np.float32(0.008277196), 'happy': np.float32(1.465307), 'sad': np.float32(2.104401), 'surprise': np.float32(1.758789), 'neutral': np.float32(13.200551)}, 'dominant_emotion': 'angry'}]\n"
     ]
    },
    {
     "name": "stderr",
     "output_type": "stream",
     "text": [
      "Action: emotion: 100%|██████████| 2/2 [00:00<00:00,  4.42it/s]\n"
     ]
    },
    {
     "name": "stdout",
     "output_type": "stream",
     "text": [
      "[{'gender': {'Woman': np.float32(47.301296), 'Man': np.float32(52.698708)}, 'dominant_gender': 'Man', 'region': {'x': 0, 'y': 0, 'w': 639, 'h': 479, 'left_eye': None, 'right_eye': None}, 'face_confidence': 0, 'emotion': {'angry': np.float32(81.26774), 'disgust': np.float32(0.00041999161), 'fear': np.float32(0.008721016), 'happy': np.float32(1.4215971), 'sad': np.float32(2.1337414), 'surprise': np.float32(1.7217777), 'neutral': np.float32(13.4460125)}, 'dominant_emotion': 'angry'}]\n"
     ]
    },
    {
     "name": "stderr",
     "output_type": "stream",
     "text": [
      "Action: emotion: 100%|██████████| 2/2 [00:00<00:00,  3.89it/s]\n"
     ]
    },
    {
     "name": "stdout",
     "output_type": "stream",
     "text": [
      "[{'gender': {'Woman': np.float32(46.93165), 'Man': np.float32(53.068344)}, 'dominant_gender': 'Man', 'region': {'x': 0, 'y': 0, 'w': 639, 'h': 479, 'left_eye': None, 'right_eye': None}, 'face_confidence': 0, 'emotion': {'angry': np.float32(81.52759), 'disgust': np.float32(0.0003416661), 'fear': np.float32(0.007987036), 'happy': np.float32(1.4020774), 'sad': np.float32(2.0956717), 'surprise': np.float32(1.6789901), 'neutral': np.float32(13.28735)}, 'dominant_emotion': 'angry'}]\n"
     ]
    },
    {
     "name": "stderr",
     "output_type": "stream",
     "text": [
      "Action: emotion: 100%|██████████| 2/2 [00:00<00:00,  2.33it/s]\n"
     ]
    },
    {
     "name": "stdout",
     "output_type": "stream",
     "text": [
      "[{'gender': {'Woman': np.float32(47.35519), 'Man': np.float32(52.644806)}, 'dominant_gender': 'Man', 'region': {'x': 0, 'y': 0, 'w': 639, 'h': 479, 'left_eye': None, 'right_eye': None}, 'face_confidence': 0, 'emotion': {'angry': np.float32(81.29327), 'disgust': np.float32(0.0003838793), 'fear': np.float32(0.008601851), 'happy': np.float32(1.4273255), 'sad': np.float32(2.1395524), 'surprise': np.float32(1.7306565), 'neutral': np.float32(13.400228)}, 'dominant_emotion': 'angry'}]\n"
     ]
    },
    {
     "name": "stderr",
     "output_type": "stream",
     "text": [
      "Action: emotion: 100%|██████████| 2/2 [00:00<00:00,  2.41it/s]\n"
     ]
    },
    {
     "name": "stdout",
     "output_type": "stream",
     "text": [
      "[{'gender': {'Woman': np.float32(47.78576), 'Man': np.float32(52.21425)}, 'dominant_gender': 'Man', 'region': {'x': 0, 'y': 0, 'w': 639, 'h': 479, 'left_eye': None, 'right_eye': None}, 'face_confidence': 0, 'emotion': {'angry': np.float32(81.312386), 'disgust': np.float32(0.0003479644), 'fear': np.float32(0.007570384), 'happy': np.float32(1.4287318), 'sad': np.float32(2.056148), 'surprise': np.float32(1.7367417), 'neutral': np.float32(13.45808)}, 'dominant_emotion': 'angry'}]\n"
     ]
    },
    {
     "name": "stderr",
     "output_type": "stream",
     "text": [
      "Action: emotion: 100%|██████████| 2/2 [00:00<00:00,  2.76it/s]\n"
     ]
    },
    {
     "name": "stdout",
     "output_type": "stream",
     "text": [
      "[{'gender': {'Woman': np.float32(47.129135), 'Man': np.float32(52.870857)}, 'dominant_gender': 'Man', 'region': {'x': 0, 'y': 0, 'w': 639, 'h': 479, 'left_eye': None, 'right_eye': None}, 'face_confidence': 0, 'emotion': {'angry': np.float32(81.26701), 'disgust': np.float32(0.00035086), 'fear': np.float32(0.0076953648), 'happy': np.float32(1.4814457), 'sad': np.float32(2.09602), 'surprise': np.float32(1.7379063), 'neutral': np.float32(13.409574)}, 'dominant_emotion': 'angry'}]\n"
     ]
    },
    {
     "name": "stderr",
     "output_type": "stream",
     "text": [
      "Action: emotion: 100%|██████████| 2/2 [00:00<00:00,  2.90it/s]\n"
     ]
    },
    {
     "name": "stdout",
     "output_type": "stream",
     "text": [
      "[{'gender': {'Woman': np.float32(47.33815), 'Man': np.float32(52.66185)}, 'dominant_gender': 'Man', 'region': {'x': 0, 'y': 0, 'w': 639, 'h': 479, 'left_eye': None, 'right_eye': None}, 'face_confidence': 0, 'emotion': {'angry': np.float32(81.54158), 'disgust': np.float32(0.0003478438), 'fear': np.float32(0.007871109), 'happy': np.float32(1.4552516), 'sad': np.float32(2.061273), 'surprise': np.float32(1.7961521), 'neutral': np.float32(13.137523)}, 'dominant_emotion': 'angry'}]\n"
     ]
    },
    {
     "name": "stderr",
     "output_type": "stream",
     "text": [
      "Action: emotion: 100%|██████████| 2/2 [00:00<00:00,  4.00it/s]\n"
     ]
    },
    {
     "name": "stdout",
     "output_type": "stream",
     "text": [
      "[{'gender': {'Woman': np.float32(47.151653), 'Man': np.float32(52.84835)}, 'dominant_gender': 'Man', 'region': {'x': 0, 'y': 0, 'w': 639, 'h': 479, 'left_eye': None, 'right_eye': None}, 'face_confidence': 0, 'emotion': {'angry': np.float32(81.237206), 'disgust': np.float32(0.00032769982), 'fear': np.float32(0.007023805), 'happy': np.float32(1.3787065), 'sad': np.float32(2.059583), 'surprise': np.float32(1.7094085), 'neutral': np.float32(13.6077385)}, 'dominant_emotion': 'angry'}]\n"
     ]
    },
    {
     "name": "stderr",
     "output_type": "stream",
     "text": [
      "Action: emotion: 100%|██████████| 2/2 [00:00<00:00,  3.54it/s]\n"
     ]
    },
    {
     "name": "stdout",
     "output_type": "stream",
     "text": [
      "[{'gender': {'Woman': np.float32(47.444492), 'Man': np.float32(52.555508)}, 'dominant_gender': 'Man', 'region': {'x': 0, 'y': 0, 'w': 639, 'h': 479, 'left_eye': None, 'right_eye': None}, 'face_confidence': 0, 'emotion': {'angry': np.float32(81.1899), 'disgust': np.float32(0.0003935517), 'fear': np.float32(0.008188061), 'happy': np.float32(1.3965658), 'sad': np.float32(2.1054604), 'surprise': np.float32(1.6926942), 'neutral': np.float32(13.606787)}, 'dominant_emotion': 'angry'}]\n"
     ]
    },
    {
     "name": "stderr",
     "output_type": "stream",
     "text": [
      "Action: emotion: 100%|██████████| 2/2 [00:00<00:00,  3.23it/s]\n"
     ]
    },
    {
     "name": "stdout",
     "output_type": "stream",
     "text": [
      "[{'gender': {'Woman': np.float32(47.427517), 'Man': np.float32(52.572487)}, 'dominant_gender': 'Man', 'region': {'x': 0, 'y': 0, 'w': 639, 'h': 479, 'left_eye': None, 'right_eye': None}, 'face_confidence': 0, 'emotion': {'angry': np.float32(81.34488), 'disgust': np.float32(0.0003583539), 'fear': np.float32(0.008064605), 'happy': np.float32(1.430365), 'sad': np.float32(2.0780423), 'surprise': np.float32(1.799607), 'neutral': np.float32(13.338686)}, 'dominant_emotion': 'angry'}]\n"
     ]
    },
    {
     "name": "stderr",
     "output_type": "stream",
     "text": [
      "Action: emotion: 100%|██████████| 2/2 [00:00<00:00,  3.45it/s]\n"
     ]
    },
    {
     "name": "stdout",
     "output_type": "stream",
     "text": [
      "[{'gender': {'Woman': np.float32(47.098324), 'Man': np.float32(52.90168)}, 'dominant_gender': 'Man', 'region': {'x': 0, 'y': 0, 'w': 639, 'h': 479, 'left_eye': None, 'right_eye': None}, 'face_confidence': 0, 'emotion': {'angry': np.float32(81.23082), 'disgust': np.float32(0.00032619215), 'fear': np.float32(0.0068840752), 'happy': np.float32(1.4261258), 'sad': np.float32(2.0522914), 'surprise': np.float32(1.7135522), 'neutral': np.float32(13.570004)}, 'dominant_emotion': 'angry'}]\n"
     ]
    },
    {
     "name": "stderr",
     "output_type": "stream",
     "text": [
      "Action: emotion: 100%|██████████| 2/2 [00:00<00:00,  3.66it/s]\n"
     ]
    },
    {
     "name": "stdout",
     "output_type": "stream",
     "text": [
      "[{'gender': {'Woman': np.float32(47.100807), 'Man': np.float32(52.899193)}, 'dominant_gender': 'Man', 'region': {'x': 0, 'y': 0, 'w': 639, 'h': 479, 'left_eye': None, 'right_eye': None}, 'face_confidence': 0, 'emotion': {'angry': np.float32(81.19007), 'disgust': np.float32(0.00039624143), 'fear': np.float32(0.008142019), 'happy': np.float32(1.4406786), 'sad': np.float32(2.1102262), 'surprise': np.float32(1.6961869), 'neutral': np.float32(13.554306)}, 'dominant_emotion': 'angry'}]\n"
     ]
    },
    {
     "name": "stderr",
     "output_type": "stream",
     "text": [
      "Action: emotion: 100%|██████████| 2/2 [00:00<00:00,  3.63it/s]\n"
     ]
    },
    {
     "name": "stdout",
     "output_type": "stream",
     "text": [
      "[{'gender': {'Woman': np.float32(47.122215), 'Man': np.float32(52.877785)}, 'dominant_gender': 'Man', 'region': {'x': 0, 'y': 0, 'w': 639, 'h': 479, 'left_eye': None, 'right_eye': None}, 'face_confidence': 0, 'emotion': {'angry': np.float32(81.088), 'disgust': np.float32(0.0003666657), 'fear': np.float32(0.007262957), 'happy': np.float32(1.417084), 'sad': np.float32(2.091893), 'surprise': np.float32(1.7239759), 'neutral': np.float32(13.671419)}, 'dominant_emotion': 'angry'}]\n"
     ]
    },
    {
     "name": "stderr",
     "output_type": "stream",
     "text": [
      "Action: emotion: 100%|██████████| 2/2 [00:00<00:00,  3.76it/s]\n"
     ]
    },
    {
     "name": "stdout",
     "output_type": "stream",
     "text": [
      "[{'gender': {'Woman': np.float32(11.807497), 'Man': np.float32(88.192505)}, 'dominant_gender': 'Man', 'region': {'x': 0, 'y': 0, 'w': 639, 'h': 479, 'left_eye': None, 'right_eye': None}, 'face_confidence': 0, 'emotion': {'angry': np.float32(2.876905e-09), 'disgust': np.float32(4.0602856e-27), 'fear': np.float32(99.13061), 'happy': np.float32(1.0847767e-15), 'sad': np.float32(0.0020769553), 'surprise': np.float32(0.8673165), 'neutral': np.float32(1.2939987e-11)}, 'dominant_emotion': 'fear'}]\n"
     ]
    },
    {
     "name": "stderr",
     "output_type": "stream",
     "text": [
      "Action: emotion: 100%|██████████| 2/2 [00:00<00:00,  2.62it/s]\n"
     ]
    },
    {
     "name": "stdout",
     "output_type": "stream",
     "text": [
      "[{'gender': {'Woman': np.float32(0.39828238), 'Man': np.float32(99.601715)}, 'dominant_gender': 'Man', 'region': {'x': 253, 'y': 129, 'w': 211, 'h': 211, 'left_eye': None, 'right_eye': None}, 'face_confidence': np.float64(0.94), 'emotion': {'angry': np.float32(9.184195), 'disgust': np.float32(0.12250347), 'fear': np.float32(20.09558), 'happy': np.float32(0.15764283), 'sad': np.float32(63.35125), 'surprise': np.float32(0.045183934), 'neutral': np.float32(7.0436482)}, 'dominant_emotion': 'sad'}]\n"
     ]
    },
    {
     "name": "stderr",
     "output_type": "stream",
     "text": [
      "Action: emotion: 100%|██████████| 2/2 [00:00<00:00,  3.64it/s]\n"
     ]
    },
    {
     "name": "stdout",
     "output_type": "stream",
     "text": [
      "[{'gender': {'Woman': np.float32(24.777979), 'Man': np.float32(75.22202)}, 'dominant_gender': 'Man', 'region': {'x': 219, 'y': 156, 'w': 180, 'h': 180, 'left_eye': None, 'right_eye': None}, 'face_confidence': np.float64(0.95), 'emotion': {'angry': np.float32(0.01979628), 'disgust': np.float32(5.0717305e-11), 'fear': np.float32(0.0074621122), 'happy': np.float32(0.0003116941), 'sad': np.float32(1.2149879), 'surprise': np.float32(1.0826171e-05), 'neutral': np.float32(98.75742)}, 'dominant_emotion': 'neutral'}]\n"
     ]
    },
    {
     "name": "stderr",
     "output_type": "stream",
     "text": [
      "Action: emotion: 100%|██████████| 2/2 [00:00<00:00,  4.09it/s]\n"
     ]
    },
    {
     "name": "stdout",
     "output_type": "stream",
     "text": [
      "[{'gender': {'Woman': np.float32(5.43496), 'Man': np.float32(94.56505)}, 'dominant_gender': 'Man', 'region': {'x': 227, 'y': 141, 'w': 192, 'h': 192, 'left_eye': (356, 224), 'right_eye': (285, 215)}, 'face_confidence': np.float64(0.94), 'emotion': {'angry': np.float32(4.371395), 'disgust': np.float32(0.023506625), 'fear': np.float32(13.321112), 'happy': np.float32(0.37429437), 'sad': np.float32(0.10177972), 'surprise': np.float32(81.65205), 'neutral': np.float32(0.15586954)}, 'dominant_emotion': 'surprise'}]\n"
     ]
    },
    {
     "name": "stderr",
     "output_type": "stream",
     "text": [
      "Action: emotion: 100%|██████████| 2/2 [00:00<00:00,  4.05it/s]\n"
     ]
    },
    {
     "name": "stdout",
     "output_type": "stream",
     "text": [
      "[{'gender': {'Woman': np.float32(9.87767), 'Man': np.float32(90.12233)}, 'dominant_gender': 'Man', 'region': {'x': 239, 'y': 121, 'w': 194, 'h': 194, 'left_eye': None, 'right_eye': None}, 'face_confidence': np.float64(0.94), 'emotion': {'angry': np.float32(4.9450216), 'disgust': np.float32(0.03195484), 'fear': np.float32(29.81483), 'happy': np.float32(5.073452), 'sad': np.float32(4.828128), 'surprise': np.float32(0.5828708), 'neutral': np.float32(54.723747)}, 'dominant_emotion': 'neutral'}]\n"
     ]
    },
    {
     "name": "stderr",
     "output_type": "stream",
     "text": [
      "Action: emotion: 100%|██████████| 2/2 [00:00<00:00,  4.14it/s]\n"
     ]
    },
    {
     "name": "stdout",
     "output_type": "stream",
     "text": [
      "[{'gender': {'Woman': np.float32(31.059652), 'Man': np.float32(68.940346)}, 'dominant_gender': 'Man', 'region': {'x': 263, 'y': 130, 'w': 78, 'h': 78, 'left_eye': None, 'right_eye': None}, 'face_confidence': np.float64(0.94), 'emotion': {'angry': np.float32(0.03332395), 'disgust': np.float32(0.00014538321), 'fear': np.float32(0.54702085), 'happy': np.float32(0.6606221), 'sad': np.float32(30.222517), 'surprise': np.float32(0.002002602), 'neutral': np.float32(68.53437)}, 'dominant_emotion': 'neutral'}]\n"
     ]
    },
    {
     "name": "stderr",
     "output_type": "stream",
     "text": [
      "Action: emotion: 100%|██████████| 2/2 [00:00<00:00,  3.85it/s]\n"
     ]
    },
    {
     "name": "stdout",
     "output_type": "stream",
     "text": [
      "[{'gender': {'Woman': np.float32(19.03022), 'Man': np.float32(80.96977)}, 'dominant_gender': 'Man', 'region': {'x': 267, 'y': 132, 'w': 81, 'h': 81, 'left_eye': None, 'right_eye': None}, 'face_confidence': np.float64(0.94), 'emotion': {'angry': np.float32(0.0056766164), 'disgust': np.float32(1.7655779e-07), 'fear': np.float32(0.012205573), 'happy': np.float32(21.413908), 'sad': np.float32(78.505066), 'surprise': np.float32(1.4662065e-09), 'neutral': np.float32(0.0631492)}, 'dominant_emotion': 'sad'}]\n"
     ]
    },
    {
     "name": "stderr",
     "output_type": "stream",
     "text": [
      "Action: emotion: 100%|██████████| 2/2 [00:00<00:00,  4.21it/s]\n"
     ]
    },
    {
     "name": "stdout",
     "output_type": "stream",
     "text": [
      "[{'gender': {'Woman': np.float32(1.8676605), 'Man': np.float32(98.13234)}, 'dominant_gender': 'Man', 'region': {'x': 204, 'y': 113, 'w': 231, 'h': 231, 'left_eye': None, 'right_eye': None}, 'face_confidence': np.float64(0.98), 'emotion': {'angry': np.float32(0.41223806), 'disgust': np.float32(3.2847176e-05), 'fear': np.float32(0.0068978835), 'happy': np.float32(82.94624), 'sad': np.float32(10.308252), 'surprise': np.float32(0.00063140667), 'neutral': np.float32(6.3256955)}, 'dominant_emotion': 'happy'}]\n"
     ]
    },
    {
     "name": "stderr",
     "output_type": "stream",
     "text": [
      "Action: emotion: 100%|██████████| 2/2 [00:00<00:00,  4.09it/s]\n"
     ]
    },
    {
     "name": "stdout",
     "output_type": "stream",
     "text": [
      "[{'gender': {'Woman': np.float32(5.3368483), 'Man': np.float32(94.66315)}, 'dominant_gender': 'Man', 'region': {'x': 191, 'y': 142, 'w': 191, 'h': 191, 'left_eye': None, 'right_eye': None}, 'face_confidence': np.float64(0.93), 'emotion': {'angry': np.float32(0.40699765), 'disgust': np.float32(1.0920815e-07), 'fear': np.float32(5.1262577e-05), 'happy': np.float32(13.871741), 'sad': np.float32(84.47283), 'surprise': np.float32(7.513576e-05), 'neutral': np.float32(1.2483084)}, 'dominant_emotion': 'sad'}]\n"
     ]
    },
    {
     "name": "stderr",
     "output_type": "stream",
     "text": [
      "Action: emotion: 100%|██████████| 2/2 [00:00<00:00,  4.04it/s]\n"
     ]
    },
    {
     "name": "stdout",
     "output_type": "stream",
     "text": [
      "[{'gender': {'Woman': np.float32(6.288784), 'Man': np.float32(93.71121)}, 'dominant_gender': 'Man', 'region': {'x': 196, 'y': 141, 'w': 199, 'h': 199, 'left_eye': None, 'right_eye': None}, 'face_confidence': np.float64(0.95), 'emotion': {'angry': np.float32(4.69328), 'disgust': np.float32(2.8597919e-05), 'fear': np.float32(0.0009484376), 'happy': np.float32(14.601533), 'sad': np.float32(15.34722), 'surprise': np.float32(0.0011658997), 'neutral': np.float32(65.35582)}, 'dominant_emotion': 'neutral'}]\n"
     ]
    },
    {
     "name": "stderr",
     "output_type": "stream",
     "text": [
      "Action: emotion: 100%|██████████| 2/2 [00:00<00:00,  4.02it/s]\n"
     ]
    },
    {
     "name": "stdout",
     "output_type": "stream",
     "text": [
      "[{'gender': {'Woman': np.float32(9.773376), 'Man': np.float32(90.22662)}, 'dominant_gender': 'Man', 'region': {'x': 200, 'y': 141, 'w': 199, 'h': 199, 'left_eye': None, 'right_eye': None}, 'face_confidence': np.float64(0.92), 'emotion': {'angry': np.float32(1.1023669), 'disgust': np.float32(1.01196186e-07), 'fear': np.float32(0.0008653046), 'happy': np.float32(0.16874747), 'sad': np.float32(1.5229836), 'surprise': np.float32(0.00017899196), 'neutral': np.float32(97.20486)}, 'dominant_emotion': 'neutral'}]\n"
     ]
    },
    {
     "name": "stderr",
     "output_type": "stream",
     "text": [
      "Action: emotion: 100%|██████████| 2/2 [00:00<00:00,  4.09it/s]\n"
     ]
    },
    {
     "name": "stdout",
     "output_type": "stream",
     "text": [
      "[{'gender': {'Woman': np.float32(13.7275715), 'Man': np.float32(86.27242)}, 'dominant_gender': 'Man', 'region': {'x': 198, 'y': 141, 'w': 199, 'h': 199, 'left_eye': None, 'right_eye': None}, 'face_confidence': np.float64(0.92), 'emotion': {'angry': np.float32(2.7989688), 'disgust': np.float32(8.6270276e-08), 'fear': np.float32(0.0008227118), 'happy': np.float32(0.38035893), 'sad': np.float32(7.175756), 'surprise': np.float32(0.0007631943), 'neutral': np.float32(89.64333)}, 'dominant_emotion': 'neutral'}]\n"
     ]
    },
    {
     "name": "stderr",
     "output_type": "stream",
     "text": [
      "Action: emotion: 100%|██████████| 2/2 [00:00<00:00,  4.11it/s]\n"
     ]
    },
    {
     "name": "stdout",
     "output_type": "stream",
     "text": [
      "[{'gender': {'Woman': np.float32(4.7945166), 'Man': np.float32(95.20548)}, 'dominant_gender': 'Man', 'region': {'x': 176, 'y': 145, 'w': 180, 'h': 180, 'left_eye': None, 'right_eye': None}, 'face_confidence': np.float64(0.94), 'emotion': {'angry': np.float32(5.3418113e-08), 'disgust': np.float32(1.9714965e-14), 'fear': np.float32(5.1438077e-12), 'happy': np.float32(99.800156), 'sad': np.float32(2.4482446e-05), 'surprise': np.float32(1.1742572e-05), 'neutral': np.float32(0.19980559)}, 'dominant_emotion': 'happy'}]\n"
     ]
    },
    {
     "name": "stderr",
     "output_type": "stream",
     "text": [
      "Action: emotion: 100%|██████████| 2/2 [00:00<00:00,  4.02it/s]\n"
     ]
    },
    {
     "name": "stdout",
     "output_type": "stream",
     "text": [
      "[{'gender': {'Woman': np.float32(4.46041), 'Man': np.float32(95.53959)}, 'dominant_gender': 'Man', 'region': {'x': 85, 'y': 166, 'w': 163, 'h': 163, 'left_eye': None, 'right_eye': None}, 'face_confidence': np.float64(0.98), 'emotion': {'angry': np.float32(3.173253e-05), 'disgust': np.float32(4.3767315e-08), 'fear': np.float32(1.4723876e-05), 'happy': np.float32(99.92987), 'sad': np.float32(0.06957787), 'surprise': np.float32(5.033049e-10), 'neutral': np.float32(0.00050925434)}, 'dominant_emotion': 'happy'}]\n"
     ]
    },
    {
     "name": "stderr",
     "output_type": "stream",
     "text": [
      "Action: emotion: 100%|██████████| 2/2 [00:00<00:00,  4.18it/s]\n"
     ]
    },
    {
     "name": "stdout",
     "output_type": "stream",
     "text": [
      "[{'gender': {'Woman': np.float32(3.0167215), 'Man': np.float32(96.98327)}, 'dominant_gender': 'Man', 'region': {'x': 0, 'y': 0, 'w': 639, 'h': 479, 'left_eye': None, 'right_eye': None}, 'face_confidence': 0, 'emotion': {'angry': np.float32(29.706022), 'disgust': np.float32(0.009322113), 'fear': np.float32(4.299015), 'happy': np.float32(0.067567915), 'sad': np.float32(65.82564), 'surprise': np.float32(3.5213002e-08), 'neutral': np.float32(0.09243374)}, 'dominant_emotion': 'sad'}]\n"
     ]
    },
    {
     "name": "stderr",
     "output_type": "stream",
     "text": [
      "Action: emotion: 100%|██████████| 2/2 [00:00<00:00,  4.07it/s]\n"
     ]
    },
    {
     "name": "stdout",
     "output_type": "stream",
     "text": [
      "[{'gender': {'Woman': np.float32(1.9018216), 'Man': np.float32(98.09818)}, 'dominant_gender': 'Man', 'region': {'x': 0, 'y': 0, 'w': 639, 'h': 479, 'left_eye': None, 'right_eye': None}, 'face_confidence': 0, 'emotion': {'angry': np.float32(0.00010562874), 'disgust': np.float32(7.445225e-07), 'fear': np.float32(0.08650137), 'happy': np.float32(1.7869663), 'sad': np.float32(0.6264277), 'surprise': np.float32(0.0002489736), 'neutral': np.float32(97.49974)}, 'dominant_emotion': 'neutral'}]\n"
     ]
    },
    {
     "name": "stderr",
     "output_type": "stream",
     "text": [
      "Action: emotion: 100%|██████████| 2/2 [00:00<00:00,  4.09it/s]\n"
     ]
    },
    {
     "name": "stdout",
     "output_type": "stream",
     "text": [
      "[{'gender': {'Woman': np.float32(2.062651), 'Man': np.float32(97.93735)}, 'dominant_gender': 'Man', 'region': {'x': 0, 'y': 0, 'w': 639, 'h': 479, 'left_eye': None, 'right_eye': None}, 'face_confidence': 0, 'emotion': {'angry': np.float32(0.09852321), 'disgust': np.float32(1.5982083e-06), 'fear': np.float32(1.9102676), 'happy': np.float32(0.19596727), 'sad': np.float32(58.61186), 'surprise': np.float32(0.0003673305), 'neutral': np.float32(39.183014)}, 'dominant_emotion': 'sad'}]\n"
     ]
    },
    {
     "name": "stderr",
     "output_type": "stream",
     "text": [
      "Action: emotion: 100%|██████████| 2/2 [00:00<00:00,  3.71it/s]\n"
     ]
    },
    {
     "name": "stdout",
     "output_type": "stream",
     "text": [
      "[{'gender': {'Woman': np.float32(1.9357402), 'Man': np.float32(98.06426)}, 'dominant_gender': 'Man', 'region': {'x': 0, 'y': 0, 'w': 639, 'h': 479, 'left_eye': None, 'right_eye': None}, 'face_confidence': 0, 'emotion': {'angry': np.float32(0.0141694825), 'disgust': np.float32(7.22608e-08), 'fear': np.float32(1.7640876), 'happy': np.float32(0.031511586), 'sad': np.float32(22.327616), 'surprise': np.float32(3.3017197e-05), 'neutral': np.float32(75.86259)}, 'dominant_emotion': 'neutral'}]\n"
     ]
    },
    {
     "name": "stderr",
     "output_type": "stream",
     "text": [
      "Action: emotion: 100%|██████████| 2/2 [00:00<00:00,  4.17it/s]\n"
     ]
    },
    {
     "name": "stdout",
     "output_type": "stream",
     "text": [
      "[{'gender': {'Woman': np.float32(32.81805), 'Man': np.float32(67.181946)}, 'dominant_gender': 'Man', 'region': {'x': 174, 'y': 169, 'w': 189, 'h': 189, 'left_eye': None, 'right_eye': None}, 'face_confidence': np.float64(0.93), 'emotion': {'angry': np.float32(0.00010939994), 'disgust': np.float32(2.1292534e-09), 'fear': np.float32(2.8019283e-08), 'happy': np.float32(99.984116), 'sad': np.float32(0.0031882196), 'surprise': np.float32(5.845435e-05), 'neutral': np.float32(0.012530954)}, 'dominant_emotion': 'happy'}]\n"
     ]
    },
    {
     "name": "stderr",
     "output_type": "stream",
     "text": [
      "Action: emotion: 100%|██████████| 2/2 [00:00<00:00,  4.11it/s]\n"
     ]
    },
    {
     "name": "stdout",
     "output_type": "stream",
     "text": [
      "[{'gender': {'Woman': np.float32(50.52148), 'Man': np.float32(49.47852)}, 'dominant_gender': 'Woman', 'region': {'x': 203, 'y': 170, 'w': 185, 'h': 185, 'left_eye': None, 'right_eye': None}, 'face_confidence': np.float64(0.94), 'emotion': {'angry': np.float32(0.00070559746), 'disgust': np.float32(2.0853391e-05), 'fear': np.float32(8.340855e-05), 'happy': np.float32(99.35363), 'sad': np.float32(0.36010876), 'surprise': np.float32(0.0013034247), 'neutral': np.float32(0.28414464)}, 'dominant_emotion': 'happy'}]\n"
     ]
    },
    {
     "name": "stderr",
     "output_type": "stream",
     "text": [
      "Action: emotion: 100%|██████████| 2/2 [00:00<00:00,  4.02it/s]\n"
     ]
    },
    {
     "name": "stdout",
     "output_type": "stream",
     "text": [
      "[{'gender': {'Woman': np.float32(6.138872), 'Man': np.float32(93.86113)}, 'dominant_gender': 'Man', 'region': {'x': 228, 'y': 159, 'w': 175, 'h': 175, 'left_eye': None, 'right_eye': None}, 'face_confidence': np.float64(0.94), 'emotion': {'angry': np.float32(1.6071192e-08), 'disgust': np.float32(1.7346062e-13), 'fear': np.float32(5.8844414e-12), 'happy': np.float32(99.84439), 'sad': np.float32(7.0794213e-06), 'surprise': np.float32(7.5215985e-07), 'neutral': np.float32(0.15560284)}, 'dominant_emotion': 'happy'}]\n"
     ]
    },
    {
     "name": "stderr",
     "output_type": "stream",
     "text": [
      "Action: emotion: 100%|██████████| 2/2 [00:00<00:00,  4.10it/s]\n"
     ]
    },
    {
     "name": "stdout",
     "output_type": "stream",
     "text": [
      "[{'gender': {'Woman': np.float32(21.228867), 'Man': np.float32(78.77113)}, 'dominant_gender': 'Man', 'region': {'x': 221, 'y': 164, 'w': 176, 'h': 176, 'left_eye': None, 'right_eye': None}, 'face_confidence': np.float64(0.92), 'emotion': {'angry': np.float32(6.958196e-08), 'disgust': np.float32(4.0995016e-12), 'fear': np.float32(5.6606442e-11), 'happy': np.float32(99.99532), 'sad': np.float32(2.9108702e-05), 'surprise': np.float32(7.150397e-09), 'neutral': np.float32(0.0046498817)}, 'dominant_emotion': 'happy'}]\n"
     ]
    },
    {
     "name": "stderr",
     "output_type": "stream",
     "text": [
      "Action: emotion: 100%|██████████| 2/2 [00:00<00:00,  4.11it/s]\n"
     ]
    },
    {
     "name": "stdout",
     "output_type": "stream",
     "text": [
      "[{'gender': {'Woman': np.float32(18.963264), 'Man': np.float32(81.03673)}, 'dominant_gender': 'Man', 'region': {'x': 205, 'y': 165, 'w': 180, 'h': 180, 'left_eye': None, 'right_eye': None}, 'face_confidence': np.float64(0.95), 'emotion': {'angry': np.float32(0.02529484), 'disgust': np.float32(1.6128559e-05), 'fear': np.float32(0.019900117), 'happy': np.float32(0.18584548), 'sad': np.float32(99.64602), 'surprise': np.float32(0.00067389884), 'neutral': np.float32(0.12224497)}, 'dominant_emotion': 'sad'}]\n"
     ]
    },
    {
     "name": "stderr",
     "output_type": "stream",
     "text": [
      "Action: emotion: 100%|██████████| 2/2 [00:00<00:00,  4.21it/s]\n"
     ]
    },
    {
     "name": "stdout",
     "output_type": "stream",
     "text": [
      "[{'gender': {'Woman': np.float32(26.120298), 'Man': np.float32(73.87969)}, 'dominant_gender': 'Man', 'region': {'x': 216, 'y': 165, 'w': 162, 'h': 162, 'left_eye': None, 'right_eye': None}, 'face_confidence': np.float64(0.94), 'emotion': {'angry': np.float32(1.0969285), 'disgust': np.float32(8.160628e-06), 'fear': np.float32(0.0034323328), 'happy': np.float32(1.9715517), 'sad': np.float32(95.37443), 'surprise': np.float32(0.002171909), 'neutral': np.float32(1.5514791)}, 'dominant_emotion': 'sad'}]\n"
     ]
    },
    {
     "name": "stderr",
     "output_type": "stream",
     "text": [
      "Action: emotion: 100%|██████████| 2/2 [00:00<00:00,  3.99it/s]\n"
     ]
    },
    {
     "name": "stdout",
     "output_type": "stream",
     "text": [
      "[{'gender': {'Woman': np.float32(8.169979), 'Man': np.float32(91.830025)}, 'dominant_gender': 'Man', 'region': {'x': 206, 'y': 164, 'w': 158, 'h': 158, 'left_eye': None, 'right_eye': None}, 'face_confidence': np.float64(0.93), 'emotion': {'angry': np.float32(0.04319358), 'disgust': np.float32(2.8988552e-05), 'fear': np.float32(0.036626104), 'happy': np.float32(0.047960404), 'sad': np.float32(99.84875), 'surprise': np.float32(0.00011083606), 'neutral': np.float32(0.023328627)}, 'dominant_emotion': 'sad'}]\n"
     ]
    },
    {
     "name": "stderr",
     "output_type": "stream",
     "text": [
      "Action: emotion: 100%|██████████| 2/2 [00:00<00:00,  4.11it/s]\n"
     ]
    },
    {
     "name": "stdout",
     "output_type": "stream",
     "text": [
      "[{'gender': {'Woman': np.float32(32.32804), 'Man': np.float32(67.67196)}, 'dominant_gender': 'Man', 'region': {'x': 200, 'y': 163, 'w': 165, 'h': 165, 'left_eye': None, 'right_eye': None}, 'face_confidence': np.float64(0.93), 'emotion': {'angry': np.float32(8.659961e-08), 'disgust': np.float32(1.7784809e-12), 'fear': np.float32(1.6682995e-11), 'happy': np.float32(99.970345), 'sad': np.float32(6.329359e-05), 'surprise': np.float32(5.795757e-07), 'neutral': np.float32(0.029590415)}, 'dominant_emotion': 'happy'}]\n"
     ]
    },
    {
     "name": "stderr",
     "output_type": "stream",
     "text": [
      "Action: emotion: 100%|██████████| 2/2 [00:00<00:00,  3.88it/s]\n"
     ]
    },
    {
     "name": "stdout",
     "output_type": "stream",
     "text": [
      "[{'gender': {'Woman': np.float32(6.8999224), 'Man': np.float32(93.10007)}, 'dominant_gender': 'Man', 'region': {'x': 211, 'y': 161, 'w': 167, 'h': 167, 'left_eye': None, 'right_eye': None}, 'face_confidence': np.float64(0.95), 'emotion': {'angry': np.float32(9.574309e-09), 'disgust': np.float32(1.2973987e-13), 'fear': np.float32(2.67607e-12), 'happy': np.float32(99.99661), 'sad': np.float32(3.5146606e-06), 'surprise': np.float32(1.2433413e-10), 'neutral': np.float32(0.0033844723)}, 'dominant_emotion': 'happy'}]\n"
     ]
    },
    {
     "name": "stderr",
     "output_type": "stream",
     "text": [
      "Action: emotion: 100%|██████████| 2/2 [00:00<00:00,  3.85it/s]\n"
     ]
    },
    {
     "name": "stdout",
     "output_type": "stream",
     "text": [
      "[{'gender': {'Woman': np.float32(25.965967), 'Man': np.float32(74.03403)}, 'dominant_gender': 'Man', 'region': {'x': 204, 'y': 156, 'w': 187, 'h': 187, 'left_eye': None, 'right_eye': None}, 'face_confidence': np.float64(0.94), 'emotion': {'angry': np.float32(3.846695), 'disgust': np.float32(0.00017574649), 'fear': np.float32(0.014006268), 'happy': np.float32(94.61042), 'sad': np.float32(1.4810344), 'surprise': np.float32(0.013548695), 'neutral': np.float32(0.034125946)}, 'dominant_emotion': 'happy'}]\n"
     ]
    },
    {
     "name": "stderr",
     "output_type": "stream",
     "text": [
      "Action: emotion: 100%|██████████| 2/2 [00:00<00:00,  4.08it/s]\n"
     ]
    },
    {
     "name": "stdout",
     "output_type": "stream",
     "text": [
      "[{'gender': {'Woman': np.float32(67.52373), 'Man': np.float32(32.47627)}, 'dominant_gender': 'Woman', 'region': {'x': 199, 'y': 166, 'w': 190, 'h': 190, 'left_eye': None, 'right_eye': None}, 'face_confidence': np.float64(0.94), 'emotion': {'angry': np.float32(0.26239476), 'disgust': np.float32(2.3409735e-05), 'fear': np.float32(1.8644441e-05), 'happy': np.float32(98.759094), 'sad': np.float32(0.50969017), 'surprise': np.float32(6.9123785e-06), 'neutral': np.float32(0.468772)}, 'dominant_emotion': 'happy'}]\n"
     ]
    },
    {
     "name": "stderr",
     "output_type": "stream",
     "text": [
      "Action: emotion: 100%|██████████| 2/2 [00:00<00:00,  4.13it/s]\n"
     ]
    },
    {
     "name": "stdout",
     "output_type": "stream",
     "text": [
      "[{'gender': {'Woman': np.float32(66.57376), 'Man': np.float32(33.42624)}, 'dominant_gender': 'Woman', 'region': {'x': 195, 'y': 166, 'w': 183, 'h': 183, 'left_eye': None, 'right_eye': None}, 'face_confidence': np.float64(0.91), 'emotion': {'angry': np.float32(0.035230972), 'disgust': np.float32(7.144199e-05), 'fear': np.float32(0.00086810737), 'happy': np.float32(99.14199), 'sad': np.float32(0.7762794), 'surprise': np.float32(0.0013303282), 'neutral': np.float32(0.04423811)}, 'dominant_emotion': 'happy'}]\n"
     ]
    },
    {
     "name": "stderr",
     "output_type": "stream",
     "text": [
      "Action: emotion: 100%|██████████| 2/2 [00:00<00:00,  4.02it/s]\n"
     ]
    },
    {
     "name": "stdout",
     "output_type": "stream",
     "text": [
      "[{'gender': {'Woman': np.float32(12.313874), 'Man': np.float32(87.68613)}, 'dominant_gender': 'Man', 'region': {'x': 194, 'y': 155, 'w': 177, 'h': 177, 'left_eye': None, 'right_eye': None}, 'face_confidence': np.float64(0.91), 'emotion': {'angry': np.float32(0.12677033), 'disgust': np.float32(5.6221527e-08), 'fear': np.float32(0.0016742205), 'happy': np.float32(0.00042138595), 'sad': np.float32(99.80173), 'surprise': np.float32(1.2279378e-06), 'neutral': np.float32(0.06940336)}, 'dominant_emotion': 'sad'}]\n"
     ]
    },
    {
     "name": "stderr",
     "output_type": "stream",
     "text": [
      "Action: emotion: 100%|██████████| 2/2 [00:00<00:00,  4.03it/s]\n"
     ]
    },
    {
     "name": "stdout",
     "output_type": "stream",
     "text": [
      "[{'gender': {'Woman': np.float32(16.160866), 'Man': np.float32(83.83913)}, 'dominant_gender': 'Man', 'region': {'x': 191, 'y': 159, 'w': 184, 'h': 184, 'left_eye': None, 'right_eye': None}, 'face_confidence': np.float64(0.92), 'emotion': {'angry': np.float32(1.8922411), 'disgust': np.float32(0.0002318641), 'fear': np.float32(0.004648027), 'happy': np.float32(0.4715534), 'sad': np.float32(90.41546), 'surprise': np.float32(0.00016756429), 'neutral': np.float32(7.2156987)}, 'dominant_emotion': 'sad'}]\n"
     ]
    },
    {
     "name": "stderr",
     "output_type": "stream",
     "text": [
      "Action: emotion: 100%|██████████| 2/2 [00:00<00:00,  3.98it/s]\n"
     ]
    },
    {
     "name": "stdout",
     "output_type": "stream",
     "text": [
      "[{'gender': {'Woman': np.float32(18.47461), 'Man': np.float32(81.52539)}, 'dominant_gender': 'Man', 'region': {'x': 185, 'y': 156, 'w': 184, 'h': 184, 'left_eye': None, 'right_eye': None}, 'face_confidence': np.float64(0.94), 'emotion': {'angry': np.float32(0.7862157), 'disgust': np.float32(0.000363088), 'fear': np.float32(0.019678649), 'happy': np.float32(0.18740164), 'sad': np.float32(98.9786), 'surprise': np.float32(0.0047487365), 'neutral': np.float32(0.022988558)}, 'dominant_emotion': 'sad'}]\n"
     ]
    },
    {
     "name": "stderr",
     "output_type": "stream",
     "text": [
      "Action: emotion: 100%|██████████| 2/2 [00:00<00:00,  4.05it/s]\n"
     ]
    },
    {
     "name": "stdout",
     "output_type": "stream",
     "text": [
      "[{'gender': {'Woman': np.float32(4.036804), 'Man': np.float32(95.963196)}, 'dominant_gender': 'Man', 'region': {'x': 0, 'y': 0, 'w': 639, 'h': 479, 'left_eye': None, 'right_eye': None}, 'face_confidence': 0, 'emotion': {'angry': np.float32(6.236095e-05), 'disgust': np.float32(6.278366e-13), 'fear': np.float32(99.93527), 'happy': np.float32(6.3299476e-06), 'sad': np.float32(2.4273395e-06), 'surprise': np.float32(0.06465094), 'neutral': np.float32(1.1832904e-05)}, 'dominant_emotion': 'fear'}]\n"
     ]
    },
    {
     "name": "stderr",
     "output_type": "stream",
     "text": [
      "Action: emotion: 100%|██████████| 2/2 [00:00<00:00,  4.20it/s]\n"
     ]
    },
    {
     "name": "stdout",
     "output_type": "stream",
     "text": [
      "[{'gender': {'Woman': np.float32(8.533611), 'Man': np.float32(91.466385)}, 'dominant_gender': 'Man', 'region': {'x': 159, 'y': 153, 'w': 181, 'h': 181, 'left_eye': None, 'right_eye': None}, 'face_confidence': np.float64(0.93), 'emotion': {'angry': np.float32(0.020502096), 'disgust': np.float32(3.79895e-05), 'fear': np.float32(0.08913153), 'happy': np.float32(0.0054478566), 'sad': np.float32(99.88048), 'surprise': np.float32(1.5767646e-05), 'neutral': np.float32(0.0043852814)}, 'dominant_emotion': 'sad'}]\n"
     ]
    },
    {
     "name": "stderr",
     "output_type": "stream",
     "text": [
      "Action: emotion: 100%|██████████| 2/2 [00:00<00:00,  4.03it/s]\n"
     ]
    },
    {
     "name": "stdout",
     "output_type": "stream",
     "text": [
      "[{'gender': {'Woman': np.float32(7.5685253), 'Man': np.float32(92.43147)}, 'dominant_gender': 'Man', 'region': {'x': 145, 'y': 170, 'w': 166, 'h': 166, 'left_eye': None, 'right_eye': None}, 'face_confidence': np.float64(0.95), 'emotion': {'angry': np.float32(0.020495465), 'disgust': np.float32(9.5300665e-09), 'fear': np.float32(0.0125753125), 'happy': np.float32(0.0029772292), 'sad': np.float32(99.938774), 'surprise': np.float32(2.7400122e-07), 'neutral': np.float32(0.025176074)}, 'dominant_emotion': 'sad'}]\n"
     ]
    },
    {
     "name": "stderr",
     "output_type": "stream",
     "text": [
      "Action: emotion: 100%|██████████| 2/2 [00:00<00:00,  3.85it/s]\n"
     ]
    },
    {
     "name": "stdout",
     "output_type": "stream",
     "text": [
      "[{'gender': {'Woman': np.float32(1.9301676), 'Man': np.float32(98.06983)}, 'dominant_gender': 'Man', 'region': {'x': 0, 'y': 0, 'w': 639, 'h': 479, 'left_eye': None, 'right_eye': None}, 'face_confidence': 0, 'emotion': {'angry': np.float32(0.08671196), 'disgust': np.float32(1.1681305e-07), 'fear': np.float32(1.3034738), 'happy': np.float32(7.203418e-05), 'sad': np.float32(97.55524), 'surprise': np.float32(1.511379e-07), 'neutral': np.float32(1.0545038)}, 'dominant_emotion': 'sad'}]\n"
     ]
    },
    {
     "name": "stderr",
     "output_type": "stream",
     "text": [
      "Action: emotion: 100%|██████████| 2/2 [00:00<00:00,  3.97it/s]\n"
     ]
    },
    {
     "name": "stdout",
     "output_type": "stream",
     "text": [
      "[{'gender': {'Woman': np.float32(6.5855317), 'Man': np.float32(93.41447)}, 'dominant_gender': 'Man', 'region': {'x': 161, 'y': 195, 'w': 142, 'h': 142, 'left_eye': None, 'right_eye': None}, 'face_confidence': np.float64(0.96), 'emotion': {'angry': np.float32(0.06700981), 'disgust': np.float32(1.3055413e-11), 'fear': np.float32(9.0491696e-05), 'happy': np.float32(99.592636), 'sad': np.float32(0.30755576), 'surprise': np.float32(2.5280897e-08), 'neutral': np.float32(0.032710396)}, 'dominant_emotion': 'happy'}]\n"
     ]
    },
    {
     "name": "stderr",
     "output_type": "stream",
     "text": [
      "Action: emotion: 100%|██████████| 2/2 [00:00<00:00,  4.11it/s]\n"
     ]
    },
    {
     "name": "stdout",
     "output_type": "stream",
     "text": [
      "[{'gender': {'Woman': np.float32(5.341604), 'Man': np.float32(94.658394)}, 'dominant_gender': 'Man', 'region': {'x': 180, 'y': 157, 'w': 159, 'h': 159, 'left_eye': None, 'right_eye': None}, 'face_confidence': np.float64(0.93), 'emotion': {'angry': np.float32(4.4512082e-05), 'disgust': np.float32(1.7270902e-15), 'fear': np.float32(7.257862e-05), 'happy': np.float32(1.1566626e-06), 'sad': np.float32(99.99988), 'surprise': np.float32(3.3547738e-11), 'neutral': np.float32(4.3648497e-06)}, 'dominant_emotion': 'sad'}]\n"
     ]
    },
    {
     "name": "stderr",
     "output_type": "stream",
     "text": [
      "Action: emotion: 100%|██████████| 2/2 [00:00<00:00,  4.11it/s]\n"
     ]
    },
    {
     "name": "stdout",
     "output_type": "stream",
     "text": [
      "[{'gender': {'Woman': np.float32(7.582353), 'Man': np.float32(92.41765)}, 'dominant_gender': 'Man', 'region': {'x': 179, 'y': 161, 'w': 158, 'h': 158, 'left_eye': None, 'right_eye': None}, 'face_confidence': np.float64(0.94), 'emotion': {'angry': np.float32(6.575713e-05), 'disgust': np.float32(1.2060635e-13), 'fear': np.float32(1.7820455e-05), 'happy': np.float32(0.0001396597), 'sad': np.float32(99.95032), 'surprise': np.float32(4.2155133e-09), 'neutral': np.float32(0.04946503)}, 'dominant_emotion': 'sad'}]\n"
     ]
    },
    {
     "name": "stderr",
     "output_type": "stream",
     "text": [
      "Action: emotion: 100%|██████████| 2/2 [00:00<00:00,  4.21it/s]\n"
     ]
    },
    {
     "name": "stdout",
     "output_type": "stream",
     "text": [
      "[{'gender': {'Woman': np.float32(8.767359), 'Man': np.float32(91.23264)}, 'dominant_gender': 'Man', 'region': {'x': 177, 'y': 159, 'w': 163, 'h': 163, 'left_eye': None, 'right_eye': None}, 'face_confidence': np.float64(0.95), 'emotion': {'angry': np.float32(0.00016610567), 'disgust': np.float32(2.3512334e-13), 'fear': np.float32(2.3189473e-06), 'happy': np.float32(8.0464684e-05), 'sad': np.float32(99.99326), 'surprise': np.float32(1.7720877e-09), 'neutral': np.float32(0.0064837537)}, 'dominant_emotion': 'sad'}]\n"
     ]
    },
    {
     "name": "stderr",
     "output_type": "stream",
     "text": [
      "Action: emotion: 100%|██████████| 2/2 [00:00<00:00,  3.96it/s]\n"
     ]
    },
    {
     "name": "stdout",
     "output_type": "stream",
     "text": [
      "[{'gender': {'Woman': np.float32(5.067358), 'Man': np.float32(94.93264)}, 'dominant_gender': 'Man', 'region': {'x': 178, 'y': 163, 'w': 156, 'h': 156, 'left_eye': None, 'right_eye': None}, 'face_confidence': np.float64(0.95), 'emotion': {'angry': np.float32(0.33367154), 'disgust': np.float32(6.595273e-06), 'fear': np.float32(0.10647187), 'happy': np.float32(0.093927644), 'sad': np.float32(95.38564), 'surprise': np.float32(0.012131057), 'neutral': np.float32(4.068159)}, 'dominant_emotion': 'sad'}]\n"
     ]
    },
    {
     "name": "stderr",
     "output_type": "stream",
     "text": [
      "Action: emotion: 100%|██████████| 2/2 [00:00<00:00,  4.02it/s]\n"
     ]
    },
    {
     "name": "stdout",
     "output_type": "stream",
     "text": [
      "[{'gender': {'Woman': np.float32(11.972797), 'Man': np.float32(88.02721)}, 'dominant_gender': 'Man', 'region': {'x': 174, 'y': 164, 'w': 156, 'h': 156, 'left_eye': None, 'right_eye': None}, 'face_confidence': np.float64(0.96), 'emotion': {'angry': np.float32(0.00024553278), 'disgust': np.float32(8.7570316e-12), 'fear': np.float32(0.00013352325), 'happy': np.float32(1.2693649e-06), 'sad': np.float32(99.99879), 'surprise': np.float32(3.8254191e-10), 'neutral': np.float32(0.00083642144)}, 'dominant_emotion': 'sad'}]\n"
     ]
    },
    {
     "name": "stderr",
     "output_type": "stream",
     "text": [
      "Action: emotion: 100%|██████████| 2/2 [00:00<00:00,  4.10it/s]\n"
     ]
    },
    {
     "name": "stdout",
     "output_type": "stream",
     "text": [
      "[{'gender': {'Woman': np.float32(6.006064), 'Man': np.float32(93.993935)}, 'dominant_gender': 'Man', 'region': {'x': 168, 'y': 168, 'w': 154, 'h': 154, 'left_eye': None, 'right_eye': None}, 'face_confidence': np.float64(0.94), 'emotion': {'angry': np.float32(0.007213955), 'disgust': np.float32(3.257339e-12), 'fear': np.float32(0.00049985177), 'happy': np.float32(6.872348e-05), 'sad': np.float32(99.90296), 'surprise': np.float32(1.0398281e-08), 'neutral': np.float32(0.0892498)}, 'dominant_emotion': 'sad'}]\n"
     ]
    },
    {
     "name": "stderr",
     "output_type": "stream",
     "text": [
      "Action: emotion: 100%|██████████| 2/2 [00:00<00:00,  4.01it/s]\n"
     ]
    },
    {
     "name": "stdout",
     "output_type": "stream",
     "text": [
      "[{'gender': {'Woman': np.float32(5.4194674), 'Man': np.float32(94.580536)}, 'dominant_gender': 'Man', 'region': {'x': 165, 'y': 167, 'w': 157, 'h': 157, 'left_eye': None, 'right_eye': None}, 'face_confidence': np.float64(0.96), 'emotion': {'angry': np.float32(0.055049907), 'disgust': np.float32(3.0724225e-12), 'fear': np.float32(6.8713896e-05), 'happy': np.float32(0.26213178), 'sad': np.float32(98.33092), 'surprise': np.float32(1.472306e-06), 'neutral': np.float32(1.3518289)}, 'dominant_emotion': 'sad'}]\n"
     ]
    },
    {
     "name": "stderr",
     "output_type": "stream",
     "text": [
      "Action: emotion: 100%|██████████| 2/2 [00:00<00:00,  4.13it/s]\n"
     ]
    },
    {
     "name": "stdout",
     "output_type": "stream",
     "text": [
      "[{'gender': {'Woman': np.float32(8.749415), 'Man': np.float32(91.25059)}, 'dominant_gender': 'Man', 'region': {'x': 162, 'y': 168, 'w': 156, 'h': 156, 'left_eye': None, 'right_eye': None}, 'face_confidence': np.float64(0.95), 'emotion': {'angry': np.float32(0.058001317), 'disgust': np.float32(7.509275e-11), 'fear': np.float32(0.00019542755), 'happy': np.float32(42.01283), 'sad': np.float32(56.867626), 'surprise': np.float32(3.002749e-05), 'neutral': np.float32(1.0613222)}, 'dominant_emotion': 'sad'}]\n"
     ]
    },
    {
     "name": "stderr",
     "output_type": "stream",
     "text": [
      "Action: emotion: 100%|██████████| 2/2 [00:00<00:00,  4.08it/s]\n"
     ]
    },
    {
     "name": "stdout",
     "output_type": "stream",
     "text": [
      "[{'gender': {'Woman': np.float32(2.1362627), 'Man': np.float32(97.86375)}, 'dominant_gender': 'Man', 'region': {'x': 0, 'y': 0, 'w': 639, 'h': 479, 'left_eye': None, 'right_eye': None}, 'face_confidence': 0, 'emotion': {'angry': np.float32(0.015503977), 'disgust': np.float32(6.710081e-09), 'fear': np.float32(0.05010242), 'happy': np.float32(0.007057751), 'sad': np.float32(69.94365), 'surprise': np.float32(1.1776436e-06), 'neutral': np.float32(29.983688)}, 'dominant_emotion': 'sad'}]\n"
     ]
    },
    {
     "name": "stderr",
     "output_type": "stream",
     "text": [
      "Action: emotion: 100%|██████████| 2/2 [00:00<00:00,  4.08it/s]\n"
     ]
    },
    {
     "name": "stdout",
     "output_type": "stream",
     "text": [
      "[{'gender': {'Woman': np.float32(1.9781392), 'Man': np.float32(98.02186)}, 'dominant_gender': 'Man', 'region': {'x': 0, 'y': 0, 'w': 639, 'h': 479, 'left_eye': None, 'right_eye': None}, 'face_confidence': 0, 'emotion': {'angry': np.float32(0.07975215), 'disgust': np.float32(6.786989e-06), 'fear': np.float32(0.17007), 'happy': np.float32(0.04146052), 'sad': np.float32(72.78833), 'surprise': np.float32(3.965768e-06), 'neutral': np.float32(26.920382)}, 'dominant_emotion': 'sad'}]\n"
     ]
    },
    {
     "name": "stderr",
     "output_type": "stream",
     "text": [
      "Action: emotion: 100%|██████████| 2/2 [00:00<00:00,  4.01it/s]\n"
     ]
    },
    {
     "name": "stdout",
     "output_type": "stream",
     "text": [
      "[{'gender': {'Woman': np.float32(2.0106213), 'Man': np.float32(97.98938)}, 'dominant_gender': 'Man', 'region': {'x': 0, 'y': 0, 'w': 639, 'h': 479, 'left_eye': None, 'right_eye': None}, 'face_confidence': 0, 'emotion': {'angry': np.float32(0.24278726), 'disgust': np.float32(2.4686167e-06), 'fear': np.float32(0.5139333), 'happy': np.float32(0.022742221), 'sad': np.float32(53.184826), 'surprise': np.float32(8.948832e-05), 'neutral': np.float32(46.035614)}, 'dominant_emotion': 'sad'}]\n"
     ]
    },
    {
     "name": "stderr",
     "output_type": "stream",
     "text": [
      "Action: emotion: 100%|██████████| 2/2 [00:00<00:00,  4.02it/s]\n"
     ]
    },
    {
     "name": "stdout",
     "output_type": "stream",
     "text": [
      "[{'gender': {'Woman': np.float32(1.9607295), 'Man': np.float32(98.039276)}, 'dominant_gender': 'Man', 'region': {'x': 0, 'y': 0, 'w': 639, 'h': 479, 'left_eye': None, 'right_eye': None}, 'face_confidence': 0, 'emotion': {'angry': np.float32(0.3704932), 'disgust': np.float32(5.8797525e-07), 'fear': np.float32(4.1643863), 'happy': np.float32(0.0035231928), 'sad': np.float32(36.746826), 'surprise': np.float32(0.0011843104), 'neutral': np.float32(58.71359)}, 'dominant_emotion': 'neutral'}]\n"
     ]
    },
    {
     "name": "stderr",
     "output_type": "stream",
     "text": [
      "Action: emotion: 100%|██████████| 2/2 [00:00<00:00,  4.10it/s]\n"
     ]
    },
    {
     "name": "stdout",
     "output_type": "stream",
     "text": [
      "[{'gender': {'Woman': np.float32(1.866317), 'Man': np.float32(98.13369)}, 'dominant_gender': 'Man', 'region': {'x': 0, 'y': 0, 'w': 639, 'h': 479, 'left_eye': None, 'right_eye': None}, 'face_confidence': 0, 'emotion': {'angry': np.float32(0.21281056), 'disgust': np.float32(1.630915e-06), 'fear': np.float32(5.8311715), 'happy': np.float32(0.005406652), 'sad': np.float32(63.358944), 'surprise': np.float32(0.00076836586), 'neutral': np.float32(30.590895)}, 'dominant_emotion': 'sad'}]\n"
     ]
    },
    {
     "name": "stderr",
     "output_type": "stream",
     "text": [
      "Action: emotion: 100%|██████████| 2/2 [00:00<00:00,  4.08it/s]\n"
     ]
    },
    {
     "name": "stdout",
     "output_type": "stream",
     "text": [
      "[{'gender': {'Woman': np.float32(1.6866928), 'Man': np.float32(98.3133)}, 'dominant_gender': 'Man', 'region': {'x': 0, 'y': 0, 'w': 639, 'h': 479, 'left_eye': None, 'right_eye': None}, 'face_confidence': 0, 'emotion': {'angry': np.float32(0.22816339), 'disgust': np.float32(7.8790754e-07), 'fear': np.float32(1.5147414), 'happy': np.float32(0.0006606128), 'sad': np.float32(79.73001), 'surprise': np.float32(2.1108039e-05), 'neutral': np.float32(18.526402)}, 'dominant_emotion': 'sad'}]\n"
     ]
    },
    {
     "name": "stderr",
     "output_type": "stream",
     "text": [
      "Action: emotion: 100%|██████████| 2/2 [00:00<00:00,  4.15it/s]\n"
     ]
    },
    {
     "name": "stdout",
     "output_type": "stream",
     "text": [
      "[{'gender': {'Woman': np.float32(1.8097267), 'Man': np.float32(98.19027)}, 'dominant_gender': 'Man', 'region': {'x': 0, 'y': 0, 'w': 639, 'h': 479, 'left_eye': None, 'right_eye': None}, 'face_confidence': 0, 'emotion': {'angry': np.float32(0.344817), 'disgust': np.float32(4.4856533e-06), 'fear': np.float32(2.782929), 'happy': np.float32(0.00093560596), 'sad': np.float32(80.96465), 'surprise': np.float32(5.010682e-05), 'neutral': np.float32(15.906611)}, 'dominant_emotion': 'sad'}]\n"
     ]
    },
    {
     "name": "stderr",
     "output_type": "stream",
     "text": [
      "Action: emotion: 100%|██████████| 2/2 [00:00<00:00,  4.22it/s]\n"
     ]
    },
    {
     "name": "stdout",
     "output_type": "stream",
     "text": [
      "[{'gender': {'Woman': np.float32(1.8314508), 'Man': np.float32(98.16855)}, 'dominant_gender': 'Man', 'region': {'x': 0, 'y': 0, 'w': 639, 'h': 479, 'left_eye': None, 'right_eye': None}, 'face_confidence': 0, 'emotion': {'angry': np.float32(0.85059804), 'disgust': np.float32(4.2200973e-06), 'fear': np.float32(2.2555432), 'happy': np.float32(0.010738916), 'sad': np.float32(59.2316), 'surprise': np.float32(0.002209095), 'neutral': np.float32(37.649307)}, 'dominant_emotion': 'sad'}]\n"
     ]
    },
    {
     "name": "stderr",
     "output_type": "stream",
     "text": [
      "Action: emotion: 100%|██████████| 2/2 [00:00<00:00,  3.95it/s]\n"
     ]
    },
    {
     "name": "stdout",
     "output_type": "stream",
     "text": [
      "[{'gender': {'Woman': np.float32(1.7756004), 'Man': np.float32(98.224396)}, 'dominant_gender': 'Man', 'region': {'x': 0, 'y': 0, 'w': 639, 'h': 479, 'left_eye': None, 'right_eye': None}, 'face_confidence': 0, 'emotion': {'angry': np.float32(0.69552475), 'disgust': np.float32(1.2399131e-05), 'fear': np.float32(0.3728486), 'happy': np.float32(0.0417617), 'sad': np.float32(64.85644), 'surprise': np.float32(0.0031391548), 'neutral': np.float32(34.030277)}, 'dominant_emotion': 'sad'}]\n"
     ]
    },
    {
     "name": "stderr",
     "output_type": "stream",
     "text": [
      "Action: emotion: 100%|██████████| 2/2 [00:00<00:00,  4.05it/s]\n"
     ]
    },
    {
     "name": "stdout",
     "output_type": "stream",
     "text": [
      "[{'gender': {'Woman': np.float32(1.418523), 'Man': np.float32(98.581474)}, 'dominant_gender': 'Man', 'region': {'x': 0, 'y': 0, 'w': 639, 'h': 479, 'left_eye': None, 'right_eye': None}, 'face_confidence': 0, 'emotion': {'angry': np.float32(0.06422279), 'disgust': np.float32(3.5774514e-07), 'fear': np.float32(0.5520514), 'happy': np.float32(5.9063997e-05), 'sad': np.float32(98.78585), 'surprise': np.float32(1.3622503e-06), 'neutral': np.float32(0.5978106)}, 'dominant_emotion': 'sad'}]\n"
     ]
    },
    {
     "name": "stderr",
     "output_type": "stream",
     "text": [
      "Action: emotion: 100%|██████████| 2/2 [00:00<00:00,  4.15it/s]\n"
     ]
    },
    {
     "name": "stdout",
     "output_type": "stream",
     "text": [
      "[{'gender': {'Woman': np.float32(1.4001967), 'Man': np.float32(98.5998)}, 'dominant_gender': 'Man', 'region': {'x': 0, 'y': 0, 'w': 639, 'h': 479, 'left_eye': None, 'right_eye': None}, 'face_confidence': 0, 'emotion': {'angry': np.float32(0.23981383), 'disgust': np.float32(7.9436313e-07), 'fear': np.float32(2.3424995), 'happy': np.float32(0.00017608717), 'sad': np.float32(93.6546), 'surprise': np.float32(0.00022255385), 'neutral': np.float32(3.762692)}, 'dominant_emotion': 'sad'}]\n"
     ]
    },
    {
     "name": "stderr",
     "output_type": "stream",
     "text": [
      "Action: emotion: 100%|██████████| 2/2 [00:00<00:00,  4.14it/s]\n"
     ]
    },
    {
     "name": "stdout",
     "output_type": "stream",
     "text": [
      "[{'gender': {'Woman': np.float32(1.537058), 'Man': np.float32(98.46294)}, 'dominant_gender': 'Man', 'region': {'x': 0, 'y': 0, 'w': 639, 'h': 479, 'left_eye': None, 'right_eye': None}, 'face_confidence': 0, 'emotion': {'angry': np.float32(0.27218518), 'disgust': np.float32(6.4715886e-07), 'fear': np.float32(1.5716455), 'happy': np.float32(8.455875e-05), 'sad': np.float32(94.527084), 'surprise': np.float32(7.905213e-05), 'neutral': np.float32(3.6289191)}, 'dominant_emotion': 'sad'}]\n"
     ]
    },
    {
     "name": "stderr",
     "output_type": "stream",
     "text": [
      "Action: emotion: 100%|██████████| 2/2 [00:00<00:00,  4.16it/s]\n"
     ]
    },
    {
     "name": "stdout",
     "output_type": "stream",
     "text": [
      "[{'gender': {'Woman': np.float32(1.4539227), 'Man': np.float32(98.54608)}, 'dominant_gender': 'Man', 'region': {'x': 0, 'y': 0, 'w': 639, 'h': 479, 'left_eye': None, 'right_eye': None}, 'face_confidence': 0, 'emotion': {'angry': np.float32(0.041424546), 'disgust': np.float32(1.4994219e-09), 'fear': np.float32(0.88408816), 'happy': np.float32(0.0008288504), 'sad': np.float32(33.246277), 'surprise': np.float32(0.00023472898), 'neutral': np.float32(65.82714)}, 'dominant_emotion': 'neutral'}]\n"
     ]
    },
    {
     "name": "stderr",
     "output_type": "stream",
     "text": [
      "Action: emotion: 100%|██████████| 2/2 [00:00<00:00,  3.93it/s]\n"
     ]
    },
    {
     "name": "stdout",
     "output_type": "stream",
     "text": [
      "[{'gender': {'Woman': np.float32(15.602128), 'Man': np.float32(84.39787)}, 'dominant_gender': 'Man', 'region': {'x': 189, 'y': 148, 'w': 184, 'h': 184, 'left_eye': None, 'right_eye': None}, 'face_confidence': np.float64(0.92), 'emotion': {'angry': np.float32(7.6325717), 'disgust': np.float32(5.636931e-06), 'fear': np.float32(0.02146888), 'happy': np.float32(0.058964673), 'sad': np.float32(92.00425), 'surprise': np.float32(0.0025456792), 'neutral': np.float32(0.28019866)}, 'dominant_emotion': 'sad'}]\n"
     ]
    },
    {
     "name": "stderr",
     "output_type": "stream",
     "text": [
      "Action: emotion: 100%|██████████| 2/2 [00:00<00:00,  4.14it/s]\n"
     ]
    },
    {
     "name": "stdout",
     "output_type": "stream",
     "text": [
      "[{'gender': {'Woman': np.float32(30.5457), 'Man': np.float32(69.45429)}, 'dominant_gender': 'Man', 'region': {'x': 185, 'y': 154, 'w': 183, 'h': 183, 'left_eye': None, 'right_eye': None}, 'face_confidence': np.float64(0.93), 'emotion': {'angry': np.float32(2.38421), 'disgust': np.float32(9.449876e-06), 'fear': np.float32(0.060736086), 'happy': np.float32(0.06366501), 'sad': np.float32(97.203964), 'surprise': np.float32(0.0007966638), 'neutral': np.float32(0.28661898)}, 'dominant_emotion': 'sad'}]\n"
     ]
    },
    {
     "name": "stderr",
     "output_type": "stream",
     "text": [
      "Action: emotion: 100%|██████████| 2/2 [00:00<00:00,  4.06it/s]\n"
     ]
    },
    {
     "name": "stdout",
     "output_type": "stream",
     "text": [
      "[{'gender': {'Woman': np.float32(32.0303), 'Man': np.float32(67.9697)}, 'dominant_gender': 'Man', 'region': {'x': 181, 'y': 153, 'w': 176, 'h': 176, 'left_eye': None, 'right_eye': None}, 'face_confidence': np.float64(0.94), 'emotion': {'angry': np.float32(0.11200381), 'disgust': np.float32(1.3000292e-05), 'fear': np.float32(0.020798938), 'happy': np.float32(0.00071548985), 'sad': np.float32(99.69625), 'surprise': np.float32(7.486582e-07), 'neutral': np.float32(0.17022215)}, 'dominant_emotion': 'sad'}]\n"
     ]
    },
    {
     "name": "stderr",
     "output_type": "stream",
     "text": [
      "Action: emotion: 100%|██████████| 2/2 [00:00<00:00,  4.02it/s]\n"
     ]
    },
    {
     "name": "stdout",
     "output_type": "stream",
     "text": [
      "[{'gender': {'Woman': np.float32(1.9573672), 'Man': np.float32(98.04263)}, 'dominant_gender': 'Man', 'region': {'x': 0, 'y': 0, 'w': 639, 'h': 479, 'left_eye': None, 'right_eye': None}, 'face_confidence': 0, 'emotion': {'angry': np.float32(0.9269988), 'disgust': np.float32(0.00013281195), 'fear': np.float32(0.083297715), 'happy': np.float32(0.045502007), 'sad': np.float32(98.54578), 'surprise': np.float32(1.8367095e-05), 'neutral': np.float32(0.39828074)}, 'dominant_emotion': 'sad'}]\n"
     ]
    },
    {
     "name": "stderr",
     "output_type": "stream",
     "text": [
      "Action: emotion: 100%|██████████| 2/2 [00:00<00:00,  3.86it/s]\n"
     ]
    },
    {
     "name": "stdout",
     "output_type": "stream",
     "text": [
      "[{'gender': {'Woman': np.float32(1.9115855), 'Man': np.float32(98.08842)}, 'dominant_gender': 'Man', 'region': {'x': 0, 'y': 0, 'w': 639, 'h': 479, 'left_eye': None, 'right_eye': None}, 'face_confidence': 0, 'emotion': {'angry': np.float32(0.5850762), 'disgust': np.float32(2.1696495e-05), 'fear': np.float32(1.2045616), 'happy': np.float32(0.0038229981), 'sad': np.float32(93.49305), 'surprise': np.float32(0.00084162346), 'neutral': np.float32(4.712628)}, 'dominant_emotion': 'sad'}]\n"
     ]
    },
    {
     "name": "stderr",
     "output_type": "stream",
     "text": [
      "Action: emotion: 100%|██████████| 2/2 [00:00<00:00,  4.00it/s]\n"
     ]
    },
    {
     "name": "stdout",
     "output_type": "stream",
     "text": [
      "[{'gender': {'Woman': np.float32(1.425027), 'Man': np.float32(98.574974)}, 'dominant_gender': 'Man', 'region': {'x': 0, 'y': 0, 'w': 639, 'h': 479, 'left_eye': None, 'right_eye': None}, 'face_confidence': 0, 'emotion': {'angry': np.float32(0.89198214), 'disgust': np.float32(1.3696702e-05), 'fear': np.float32(3.870458), 'happy': np.float32(0.0028089255), 'sad': np.float32(78.73749), 'surprise': np.float32(0.0049957507), 'neutral': np.float32(16.492252)}, 'dominant_emotion': 'sad'}]\n"
     ]
    },
    {
     "name": "stderr",
     "output_type": "stream",
     "text": [
      "Action: emotion: 100%|██████████| 2/2 [00:00<00:00,  4.01it/s]\n"
     ]
    },
    {
     "name": "stdout",
     "output_type": "stream",
     "text": [
      "[{'gender': {'Woman': np.float32(1.5842869), 'Man': np.float32(98.41572)}, 'dominant_gender': 'Man', 'region': {'x': 0, 'y': 0, 'w': 639, 'h': 479, 'left_eye': None, 'right_eye': None}, 'face_confidence': 0, 'emotion': {'angry': np.float32(0.1891484), 'disgust': np.float32(6.3129124e-07), 'fear': np.float32(2.090938), 'happy': np.float32(0.008888103), 'sad': np.float32(42.31241), 'surprise': np.float32(0.00078108814), 'neutral': np.float32(55.39783)}, 'dominant_emotion': 'neutral'}]\n"
     ]
    },
    {
     "name": "stderr",
     "output_type": "stream",
     "text": [
      "Action: emotion: 100%|██████████| 2/2 [00:00<00:00,  4.15it/s]\n"
     ]
    },
    {
     "name": "stdout",
     "output_type": "stream",
     "text": [
      "[{'gender': {'Woman': np.float32(1.4602642), 'Man': np.float32(98.53974)}, 'dominant_gender': 'Man', 'region': {'x': 0, 'y': 0, 'w': 639, 'h': 479, 'left_eye': None, 'right_eye': None}, 'face_confidence': 0, 'emotion': {'angry': np.float32(0.2410192), 'disgust': np.float32(1.3943458e-06), 'fear': np.float32(2.0652587), 'happy': np.float32(0.0005822266), 'sad': np.float32(80.43365), 'surprise': np.float32(0.00023539635), 'neutral': np.float32(17.25926)}, 'dominant_emotion': 'sad'}]\n"
     ]
    },
    {
     "name": "stderr",
     "output_type": "stream",
     "text": [
      "Action: emotion: 100%|██████████| 2/2 [00:00<00:00,  4.08it/s]\n"
     ]
    },
    {
     "name": "stdout",
     "output_type": "stream",
     "text": [
      "[{'gender': {'Woman': np.float32(1.6256988), 'Man': np.float32(98.3743)}, 'dominant_gender': 'Man', 'region': {'x': 0, 'y': 0, 'w': 639, 'h': 479, 'left_eye': None, 'right_eye': None}, 'face_confidence': 0, 'emotion': {'angry': np.float32(0.0516351), 'disgust': np.float32(5.1856824e-07), 'fear': np.float32(2.5957067), 'happy': np.float32(0.00041223134), 'sad': np.float32(90.65399), 'surprise': np.float32(3.642648e-05), 'neutral': np.float32(6.698218)}, 'dominant_emotion': 'sad'}]\n"
     ]
    },
    {
     "name": "stderr",
     "output_type": "stream",
     "text": [
      "Action: emotion: 100%|██████████| 2/2 [00:00<00:00,  4.19it/s]\n"
     ]
    },
    {
     "name": "stdout",
     "output_type": "stream",
     "text": [
      "[{'gender': {'Woman': np.float32(1.9100124), 'Man': np.float32(98.09)}, 'dominant_gender': 'Man', 'region': {'x': 0, 'y': 0, 'w': 639, 'h': 479, 'left_eye': None, 'right_eye': None}, 'face_confidence': 0, 'emotion': {'angry': np.float32(0.028968299), 'disgust': np.float32(1.2817524e-06), 'fear': np.float32(1.0631323), 'happy': np.float32(0.00095783884), 'sad': np.float32(94.74497), 'surprise': np.float32(6.91037e-07), 'neutral': np.float32(4.1619725)}, 'dominant_emotion': 'sad'}]\n"
     ]
    },
    {
     "name": "stderr",
     "output_type": "stream",
     "text": [
      "Action: emotion: 100%|██████████| 2/2 [00:00<00:00,  4.14it/s]\n"
     ]
    },
    {
     "name": "stdout",
     "output_type": "stream",
     "text": [
      "[{'gender': {'Woman': np.float32(2.24869), 'Man': np.float32(97.75131)}, 'dominant_gender': 'Man', 'region': {'x': 0, 'y': 0, 'w': 639, 'h': 479, 'left_eye': None, 'right_eye': None}, 'face_confidence': 0, 'emotion': {'angry': np.float32(0.6890001), 'disgust': np.float32(6.918669e-07), 'fear': np.float32(1.9484465), 'happy': np.float32(0.016507993), 'sad': np.float32(18.030577), 'surprise': np.float32(0.0015928078), 'neutral': np.float32(79.31387)}, 'dominant_emotion': 'neutral'}]\n"
     ]
    },
    {
     "name": "stderr",
     "output_type": "stream",
     "text": [
      "Action: emotion: 100%|██████████| 2/2 [00:00<00:00,  4.02it/s]\n"
     ]
    },
    {
     "name": "stdout",
     "output_type": "stream",
     "text": [
      "[{'gender': {'Woman': np.float32(1.5473545), 'Man': np.float32(98.45264)}, 'dominant_gender': 'Man', 'region': {'x': 0, 'y': 0, 'w': 639, 'h': 479, 'left_eye': None, 'right_eye': None}, 'face_confidence': 0, 'emotion': {'angry': np.float32(2.2908878), 'disgust': np.float32(6.0698356e-05), 'fear': np.float32(6.1264462), 'happy': np.float32(0.0021825458), 'sad': np.float32(79.629), 'surprise': np.float32(0.0012851086), 'neutral': np.float32(11.950136)}, 'dominant_emotion': 'sad'}]\n"
     ]
    },
    {
     "name": "stderr",
     "output_type": "stream",
     "text": [
      "Action: emotion: 100%|██████████| 2/2 [00:00<00:00,  3.94it/s]\n"
     ]
    },
    {
     "name": "stdout",
     "output_type": "stream",
     "text": [
      "[{'gender': {'Woman': np.float32(3.2993014), 'Man': np.float32(96.70071)}, 'dominant_gender': 'Man', 'region': {'x': 175, 'y': 149, 'w': 161, 'h': 161, 'left_eye': None, 'right_eye': None}, 'face_confidence': np.float64(0.92), 'emotion': {'angry': np.float32(0.0010637267), 'disgust': np.float32(1.003559e-07), 'fear': np.float32(2.5226012e-07), 'happy': np.float32(98.685036), 'sad': np.float32(0.007017048), 'surprise': np.float32(0.0014469706), 'neutral': np.float32(1.3054293)}, 'dominant_emotion': 'happy'}]\n"
     ]
    },
    {
     "name": "stderr",
     "output_type": "stream",
     "text": [
      "Action: emotion: 100%|██████████| 2/2 [00:00<00:00,  4.07it/s]\n"
     ]
    },
    {
     "name": "stdout",
     "output_type": "stream",
     "text": [
      "[{'gender': {'Woman': np.float32(21.244972), 'Man': np.float32(78.755035)}, 'dominant_gender': 'Man', 'region': {'x': 209, 'y': 144, 'w': 183, 'h': 183, 'left_eye': None, 'right_eye': None}, 'face_confidence': np.float64(0.94), 'emotion': {'angry': np.float32(16.760834), 'disgust': np.float32(0.0010545418), 'fear': np.float32(0.12148331), 'happy': np.float32(4.507705), 'sad': np.float32(54.91651), 'surprise': np.float32(0.020420544), 'neutral': np.float32(23.671997)}, 'dominant_emotion': 'sad'}]\n"
     ]
    },
    {
     "name": "stderr",
     "output_type": "stream",
     "text": [
      "Action: emotion: 100%|██████████| 2/2 [00:00<00:00,  4.07it/s]\n"
     ]
    },
    {
     "name": "stdout",
     "output_type": "stream",
     "text": [
      "[{'gender': {'Woman': np.float32(26.95553), 'Man': np.float32(73.044464)}, 'dominant_gender': 'Man', 'region': {'x': 203, 'y': 146, 'w': 186, 'h': 186, 'left_eye': None, 'right_eye': None}, 'face_confidence': np.float64(0.92), 'emotion': {'angry': np.float32(1.5090706), 'disgust': np.float32(0.00040751038), 'fear': np.float32(0.798785), 'happy': np.float32(92.01243), 'sad': np.float32(5.5684953), 'surprise': np.float32(0.07632016), 'neutral': np.float32(0.03449524)}, 'dominant_emotion': 'happy'}]\n"
     ]
    },
    {
     "name": "stderr",
     "output_type": "stream",
     "text": [
      "Action: emotion: 100%|██████████| 2/2 [00:00<00:00,  4.12it/s]\n"
     ]
    },
    {
     "name": "stdout",
     "output_type": "stream",
     "text": [
      "[{'gender': {'Woman': np.float32(17.903133), 'Man': np.float32(82.09686)}, 'dominant_gender': 'Man', 'region': {'x': 202, 'y': 150, 'w': 178, 'h': 178, 'left_eye': None, 'right_eye': None}, 'face_confidence': np.float64(0.93), 'emotion': {'angry': np.float32(2.6403244), 'disgust': np.float32(0.00045067247), 'fear': np.float32(0.6418516), 'happy': np.float32(0.91675353), 'sad': np.float32(45.179188), 'surprise': np.float32(0.009078342), 'neutral': np.float32(50.612354)}, 'dominant_emotion': 'neutral'}]\n"
     ]
    },
    {
     "name": "stderr",
     "output_type": "stream",
     "text": [
      "Action: emotion: 100%|██████████| 2/2 [00:00<00:00,  3.93it/s]\n"
     ]
    },
    {
     "name": "stdout",
     "output_type": "stream",
     "text": [
      "[{'gender': {'Woman': np.float32(20.850117), 'Man': np.float32(79.14988)}, 'dominant_gender': 'Man', 'region': {'x': 199, 'y': 153, 'w': 178, 'h': 178, 'left_eye': None, 'right_eye': None}, 'face_confidence': np.float64(0.93), 'emotion': {'angry': np.float32(0.85887355), 'disgust': np.float32(0.0004959493), 'fear': np.float32(0.33756658), 'happy': np.float32(0.5002996), 'sad': np.float32(95.743484), 'surprise': np.float32(0.009249646), 'neutral': np.float32(2.550028)}, 'dominant_emotion': 'sad'}]\n"
     ]
    },
    {
     "name": "stderr",
     "output_type": "stream",
     "text": [
      "Action: emotion: 100%|██████████| 2/2 [00:00<00:00,  4.04it/s]\n"
     ]
    },
    {
     "name": "stdout",
     "output_type": "stream",
     "text": [
      "[{'gender': {'Woman': np.float32(51.224815), 'Man': np.float32(48.775177)}, 'dominant_gender': 'Woman', 'region': {'x': 194, 'y': 148, 'w': 183, 'h': 183, 'left_eye': None, 'right_eye': None}, 'face_confidence': np.float64(0.93), 'emotion': {'angry': np.float32(2.007624), 'disgust': np.float32(2.2463548e-06), 'fear': np.float32(0.015254055), 'happy': np.float32(0.35434553), 'sad': np.float32(64.10385), 'surprise': np.float32(0.0023576412), 'neutral': np.float32(33.516567)}, 'dominant_emotion': 'sad'}]\n"
     ]
    },
    {
     "name": "stderr",
     "output_type": "stream",
     "text": [
      "Action: emotion: 100%|██████████| 2/2 [00:00<00:00,  4.02it/s]\n"
     ]
    },
    {
     "name": "stdout",
     "output_type": "stream",
     "text": [
      "[{'gender': {'Woman': np.float32(65.60005), 'Man': np.float32(34.399952)}, 'dominant_gender': 'Woman', 'region': {'x': 191, 'y': 157, 'w': 177, 'h': 177, 'left_eye': None, 'right_eye': None}, 'face_confidence': np.float64(0.94), 'emotion': {'angry': np.float32(7.448398e-07), 'disgust': np.float32(6.4296663e-12), 'fear': np.float32(7.1621425e-10), 'happy': np.float32(99.98439), 'sad': np.float32(0.00057032093), 'surprise': np.float32(2.9617159e-08), 'neutral': np.float32(0.0150389485)}, 'dominant_emotion': 'happy'}]\n"
     ]
    },
    {
     "name": "stderr",
     "output_type": "stream",
     "text": [
      "Action: emotion: 100%|██████████| 2/2 [00:00<00:00,  3.98it/s]\n"
     ]
    },
    {
     "name": "stdout",
     "output_type": "stream",
     "text": [
      "[{'gender': {'Woman': np.float32(1.6971174), 'Man': np.float32(98.30289)}, 'dominant_gender': 'Man', 'region': {'x': 0, 'y': 0, 'w': 639, 'h': 479, 'left_eye': None, 'right_eye': None}, 'face_confidence': 0, 'emotion': {'angry': np.float32(0.0001984642), 'disgust': np.float32(3.189684e-12), 'fear': np.float32(9.334342), 'happy': np.float32(0.6812274), 'sad': np.float32(0.0046034623), 'surprise': np.float32(16.98049), 'neutral': np.float32(72.999146)}, 'dominant_emotion': 'neutral'}]\n"
     ]
    },
    {
     "name": "stderr",
     "output_type": "stream",
     "text": [
      "Action: emotion: 100%|██████████| 2/2 [00:00<00:00,  4.10it/s]\n"
     ]
    },
    {
     "name": "stdout",
     "output_type": "stream",
     "text": [
      "[{'gender': {'Woman': np.float32(1.3043796), 'Man': np.float32(98.695625)}, 'dominant_gender': 'Man', 'region': {'x': 0, 'y': 0, 'w': 639, 'h': 479, 'left_eye': None, 'right_eye': None}, 'face_confidence': 0, 'emotion': {'angry': np.float32(0.0014595963), 'disgust': np.float32(5.0490184e-10), 'fear': np.float32(0.083109625), 'happy': np.float32(0.00062653003), 'sad': np.float32(99.866394), 'surprise': np.float32(7.751853e-09), 'neutral': np.float32(0.04841974)}, 'dominant_emotion': 'sad'}]\n"
     ]
    },
    {
     "name": "stderr",
     "output_type": "stream",
     "text": [
      "Action: emotion: 100%|██████████| 2/2 [00:00<00:00,  4.23it/s]\n"
     ]
    },
    {
     "name": "stdout",
     "output_type": "stream",
     "text": [
      "[{'gender': {'Woman': np.float32(11.974378), 'Man': np.float32(88.02563)}, 'dominant_gender': 'Man', 'region': {'x': 214, 'y': 179, 'w': 136, 'h': 136, 'left_eye': None, 'right_eye': None}, 'face_confidence': np.float64(0.93), 'emotion': {'angry': np.float32(0.00821589), 'disgust': np.float32(1.7545119e-07), 'fear': np.float32(0.09171116), 'happy': np.float32(0.51694125), 'sad': np.float32(27.713356), 'surprise': np.float32(0.003548273), 'neutral': np.float32(71.66623)}, 'dominant_emotion': 'neutral'}]\n"
     ]
    },
    {
     "name": "stderr",
     "output_type": "stream",
     "text": [
      "Action: emotion: 100%|██████████| 2/2 [00:00<00:00,  4.09it/s]\n"
     ]
    },
    {
     "name": "stdout",
     "output_type": "stream",
     "text": [
      "[{'gender': {'Woman': np.float32(4.429054), 'Man': np.float32(95.570946)}, 'dominant_gender': 'Man', 'region': {'x': 0, 'y': 0, 'w': 639, 'h': 479, 'left_eye': None, 'right_eye': None}, 'face_confidence': 0, 'emotion': {'angry': np.float32(1.7859473e-06), 'disgust': np.float32(1.5234995e-13), 'fear': np.float32(99.9978), 'happy': np.float32(2.5048282e-08), 'sad': np.float32(0.0004264194), 'surprise': np.float32(0.00022886817), 'neutral': np.float32(0.0015439581)}, 'dominant_emotion': 'fear'}]\n"
     ]
    },
    {
     "name": "stderr",
     "output_type": "stream",
     "text": [
      "Action: emotion: 100%|██████████| 2/2 [00:00<00:00,  4.00it/s]\n"
     ]
    },
    {
     "name": "stdout",
     "output_type": "stream",
     "text": [
      "[{'gender': {'Woman': np.float32(5.4087024), 'Man': np.float32(94.5913)}, 'dominant_gender': 'Man', 'region': {'x': 0, 'y': 0, 'w': 639, 'h': 479, 'left_eye': None, 'right_eye': None}, 'face_confidence': 0, 'emotion': {'angry': np.float32(2.4892515e-05), 'disgust': np.float32(1.6808784e-10), 'fear': np.float32(99.827835), 'happy': np.float32(2.1838073e-06), 'sad': np.float32(0.0013946508), 'surprise': np.float32(0.08291699), 'neutral': np.float32(0.08782926)}, 'dominant_emotion': 'fear'}]\n"
     ]
    },
    {
     "name": "stderr",
     "output_type": "stream",
     "text": [
      "Action: emotion: 100%|██████████| 2/2 [00:00<00:00,  3.57it/s]\n"
     ]
    },
    {
     "name": "stdout",
     "output_type": "stream",
     "text": [
      "[{'gender': {'Woman': np.float32(4.2321253), 'Man': np.float32(95.767876)}, 'dominant_gender': 'Man', 'region': {'x': 0, 'y': 0, 'w': 639, 'h': 479, 'left_eye': None, 'right_eye': None}, 'face_confidence': 0, 'emotion': {'angry': np.float32(0.0014558665), 'disgust': np.float32(1.4995499e-09), 'fear': np.float32(99.996956), 'happy': np.float32(3.7556063e-06), 'sad': np.float32(0.00012305431), 'surprise': np.float32(0.0012040368), 'neutral': np.float32(0.00025287663)}, 'dominant_emotion': 'fear'}]\n"
     ]
    },
    {
     "name": "stderr",
     "output_type": "stream",
     "text": [
      "Action: emotion: 100%|██████████| 2/2 [00:00<00:00,  3.70it/s]\n"
     ]
    },
    {
     "name": "stdout",
     "output_type": "stream",
     "text": [
      "[{'gender': {'Woman': np.float32(1.8246766), 'Man': np.float32(98.17532)}, 'dominant_gender': 'Man', 'region': {'x': 0, 'y': 0, 'w': 639, 'h': 479, 'left_eye': None, 'right_eye': None}, 'face_confidence': 0, 'emotion': {'angry': np.float32(0.00036665), 'disgust': np.float32(3.100656e-10), 'fear': np.float32(5.207568), 'happy': np.float32(0.004429361), 'sad': np.float32(42.532734), 'surprise': np.float32(0.00012514973), 'neutral': np.float32(52.25478)}, 'dominant_emotion': 'neutral'}]\n"
     ]
    },
    {
     "name": "stderr",
     "output_type": "stream",
     "text": [
      "Action: emotion: 100%|██████████| 2/2 [00:00<00:00,  3.98it/s]"
     ]
    },
    {
     "name": "stdout",
     "output_type": "stream",
     "text": [
      "[{'gender': {'Woman': np.float32(59.104683), 'Man': np.float32(40.89532)}, 'dominant_gender': 'Woman', 'region': {'x': 206, 'y': 168, 'w': 175, 'h': 175, 'left_eye': None, 'right_eye': None}, 'face_confidence': np.float64(0.92), 'emotion': {'angry': np.float32(7.1150804), 'disgust': np.float32(0.0005876681), 'fear': np.float32(0.077474155), 'happy': np.float32(25.105377), 'sad': np.float32(45.880108), 'surprise': np.float32(0.0013490102), 'neutral': np.float32(21.820024)}, 'dominant_emotion': 'sad'}]\n"
     ]
    },
    {
     "name": "stderr",
     "output_type": "stream",
     "text": [
      "\n"
     ]
    }
   ],
   "source": [
    "import cv2\n",
    "from deepface import DeepFace\n",
    "\n",
    "vid = cv2.VideoCapture(0)\n",
    "\n",
    "# font \n",
    "font = cv2.FONT_HERSHEY_SIMPLEX\n",
    "fontScale = 1\n",
    "color = (255, 0, 0) \n",
    "thickness = 2 \n",
    "pos = (50, 50) \n",
    "  \n",
    "while(True):      \n",
    "    # fotograma a fotograma\n",
    "    ret, frame = vid.read()\n",
    "  \n",
    "    if ret:  \n",
    "        obj = DeepFace.analyze(img_path = frame, enforce_detection=False, actions =['gender', 'emotion'])\n",
    "        print(obj)\n",
    "\n",
    "        # Primera cara\n",
    "        image = cv2.putText(frame, str(obj[0]['dominant_gender']+' '+obj[0]['dominant_emotion']), pos, font,  \n",
    "                        fontScale, color, thickness, cv2.LINE_AA) \n",
    "        # Muestra fotograma\n",
    "        cv2.imshow('Vid', frame)\n",
    "    \n",
    "    # Detenemos pulsado ESC\n",
    "    if cv2.waitKey(20) == 27:\n",
    "        break\n",
    "  \n",
    "# Libera el objeto de captura\n",
    "vid.release()\n",
    "# Destruye ventanas\n",
    "cv2.destroyAllWindows()"
   ]
  }
 ],
 "metadata": {
  "kernelspec": {
   "display_name": "VC_P5",
   "language": "python",
   "name": "python3"
  },
  "language_info": {
   "codemirror_mode": {
    "name": "ipython",
    "version": 3
   },
   "file_extension": ".py",
   "mimetype": "text/x-python",
   "name": "python",
   "nbconvert_exporter": "python",
   "pygments_lexer": "ipython3",
   "version": "3.11.5"
  }
 },
 "nbformat": 4,
 "nbformat_minor": 5
}
