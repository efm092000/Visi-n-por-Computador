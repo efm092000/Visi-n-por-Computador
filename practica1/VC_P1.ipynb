{
 "cells": [
  {
   "cell_type": "markdown",
   "metadata": {},
   "source": [
    "Paquetes necesarios"
   ]
  },
  {
   "cell_type": "code",
   "execution_count": 1,
   "metadata": {},
   "outputs": [],
   "source": [
    "import cv2  \n",
    "import numpy as np\n",
    "import matplotlib.pyplot as plt"
   ]
  },
  {
   "cell_type": "markdown",
   "metadata": {},
   "source": [
    "Inicializaciones"
   ]
  },
  {
   "cell_type": "code",
   "execution_count": 2,
   "metadata": {},
   "outputs": [],
   "source": [
    "#Dimensiones de la imagen a crear\n",
    "ancho = 300\n",
    "alto = 200"
   ]
  },
  {
   "cell_type": "markdown",
   "metadata": {},
   "source": [
    "TAREA: Crea una imagen, p.e. de 800x800 píxeles, con la textura del tablero de ajedrez"
   ]
  },
  {
   "cell_type": "code",
   "execution_count": 35,
   "metadata": {},
   "outputs": [
    {
     "data": {
      "image/png": "[encoded data removed]",
      "text/plain": [
       "<Figure size 640x480 with 1 Axes>"
      ]
     },
     "metadata": {},
     "output_type": "display_data"
    }
   ],
   "source": [
    "gris_img = np.zeros((800,800,1), dtype = np.uint8)\n",
    "#Modifica un par de zonas rectangulares de la imagen\n",
    "for i in range(0,800,100):\n",
    "    for j in range(0,800,100):\n",
    "         if (i //100 ) % 2 == (j // 100) % 2:\n",
    "            gris_img[i:i+100, j:j+100] = 255\n",
    "    \n",
    "#Muestra la imagen con matplotlib\n",
    "#Al ser un plano, recordar especificar que el mapa de color usado es de grises\n",
    "plt.imshow(gris_img, cmap='gray') #Te animo a probar a eliminar la especificación del mapa de color\n",
    "plt.show()"
   ]
  },
  {
   "cell_type": "markdown",
   "metadata": {},
   "source": [
    "TAREA: Crear una imagen estilo Mondrian (un ejemplo https://www3.gobiernodecanarias.org/medusa/ecoescuela/sa/2017/04/17/descubriendo-a-mondrian/ )"
   ]
  },
  {
   "cell_type": "code",
   "execution_count": 11,
   "metadata": {},
   "outputs": [
    {
     "data": {
      "image/png": "[encoded data removed]",
      "text/plain": [
       "<Figure size 640x480 with 1 Axes>"
      ]
     },
     "metadata": {},
     "output_type": "display_data"
    }
   ],
   "source": [
    "color_img = np.zeros((alto, ancho,3), dtype = np.uint8)\n",
    "#Capa base - blanco\n",
    "color_img[:,:,0] = 255\n",
    "color_img[:,:,1] = 255\n",
    "color_img[:,:,2] = 255\n",
    "\n",
    "#Cuadriláteros\n",
    "\n",
    "for filas in range (0, 200):\n",
    "    for columnas in range (0, 300):\n",
    "\n",
    "        #ROJO\n",
    "        if filas < 50 and columnas > 150 and columnas < 250:\n",
    "            color_img[:,:,0][ filas, columnas] = 255\n",
    "            color_img[:,:,1][ filas, columnas] = 0\n",
    "            color_img[:,:,2][ filas, columnas] = 0\n",
    "\n",
    "        if filas > 50 and filas < 125 and columnas > 250: \n",
    "            color_img[:,:,0][ filas, columnas] = 255\n",
    "            color_img[:,:,1][ filas, columnas] = 0\n",
    "            color_img[:,:,2][ filas, columnas] = 0\n",
    "        \n",
    "        if filas > 125 and filas < 150 and columnas > 50 and columnas < 200:\n",
    "            color_img[:,:,0][ filas, columnas] = 255\n",
    "            color_img[:,:,1][ filas, columnas] = 0\n",
    "            color_img[:,:,2][ filas, columnas] = 0\n",
    "\n",
    "        #AZUL\n",
    "        if filas > 50  and filas < 125 and columnas > 200 and columnas < 250: \n",
    "            color_img[:,:,0][ filas, columnas] = 0\n",
    "            color_img[:,:,1][ filas, columnas] = 0\n",
    "            color_img[ :, :,2][ filas, columnas] = 255\n",
    "        \n",
    "        if filas < 50 and columnas > 50 and columnas < 150:\n",
    "            color_img[:,:,0][filas,columnas] = 0\n",
    "            color_img[:,:,1][filas,columnas] = 0\n",
    "            color_img[:,:,2][filas,columnas] = 255\n",
    "\n",
    "        if filas > 150  and columnas < 50:\n",
    "            color_img[:,:,0][filas,columnas] = 0\n",
    "            color_img[:,:,1][filas,columnas] = 0\n",
    "            color_img[:,:,2][filas,columnas] = 255\n",
    "\n",
    "        #AMARILLO\n",
    "        if filas < 50 and columnas < 50: \n",
    "            color_img[:,:,0][filas,columnas] = 255\n",
    "            color_img[:,:,1][filas,columnas] = 255\n",
    "            color_img[:,:,2][filas,columnas] = 0\n",
    "        \n",
    "        if filas < 50 and columnas > 250:\n",
    "            color_img[:,:,0][filas,columnas] = 255\n",
    "            color_img[:,:,1][filas,columnas] = 255\n",
    "            color_img[:,:,2][filas,columnas] = 0\n",
    "        \n",
    "        if filas > 125 and filas < 150 and columnas > 250: \n",
    "            color_img[:,:,0][filas,columnas] = 255\n",
    "            color_img[:,:,1][filas,columnas] = 255\n",
    "            color_img[:,:,2][filas,columnas] = 0\n",
    "        \n",
    "        if filas > 150 and columnas > 50 and columnas < 200:\n",
    "            color_img[:,:,0][filas,columnas] = 255\n",
    "            color_img[:,:,1][filas,columnas] = 255\n",
    "            color_img[:,:,2][filas,columnas] = 0\n",
    "\n",
    "\n",
    "#Líneas\n",
    "for filas in range(0, 200):\n",
    "    for columnas in range(0,300):\n",
    "        if filas > 48 and filas < 52  and columnas > 0: \n",
    "            color_img[filas,columnas] = 0\n",
    "        if columnas > 0 and filas > 148 and filas < 152: \n",
    "            color_img[filas,columnas] = 0\n",
    "        if columnas > 0 and filas > 123 and filas < 127:\n",
    "            color_img[filas,columnas] = 0\n",
    "        if columnas > 48 and columnas < 52:\n",
    "            color_img[filas,columnas] = 0\n",
    "        if columnas > 148 and columnas < 152 and filas < 127: \n",
    "            color_img[filas,columnas] = 0\n",
    "        if filas < 152 and columnas > 248 and columnas < 252: \n",
    "            color_img[filas,columnas] = 0\n",
    "        if filas > 48 and columnas > 198 and columnas < 202:\n",
    "            color_img[filas,columnas] = 0\n",
    "\n",
    "\n",
    "plt.imshow(color_img)\n",
    "plt.show()"
   ]
  },
  {
   "cell_type": "markdown",
   "metadata": {},
   "source": [
    "TAREA: Resuelve una de las tareas previas (a elegir) con las funciones de dibujo de OpenCV  :)"
   ]
  },
  {
   "cell_type": "code",
   "execution_count": 13,
   "metadata": {},
   "outputs": [
    {
     "data": {
      "image/png": "[encoded data removed]",
      "text/plain": [
       "<Figure size 640x480 with 1 Axes>"
      ]
     },
     "metadata": {},
     "output_type": "display_data"
    },
    {
     "data": {
      "text/plain": [
       "True"
      ]
     },
     "execution_count": 13,
     "metadata": {},
     "output_type": "execute_result"
    }
   ],
   "source": [
    "#Crea una imagen con res planos\n",
    "color_img = np.zeros((alto, ancho, 3), dtype = np.uint8)\n",
    "\n",
    "#Línea central grosor 4\n",
    "cv2.line(color_img,(int(ancho/2),0),(int(ancho/2),alto),(0,120,255), 4)\n",
    "#Rectángulo grosor 4\n",
    "cv2.rectangle(color_img,(10,10),(ancho-10,int(alto/2)), (0,255,160),4)\n",
    "#Círculo\n",
    "cv2.circle(color_img,(ancho-60,30), 15, (60,255,60),-1)\n",
    "#Rectángulo relleno\n",
    "cv2.rectangle(color_img,(20,20),(60,40),(255,60,15),-1)\n",
    "#Visualización\n",
    "plt.imshow(color_img)\n",
    "plt.show()\n",
    "\n",
    "#Salva la imagne resultante al disco\n",
    "cv2.imwrite('imagen.jpg', color_img)"
   ]
  },
  {
   "cell_type": "markdown",
   "metadata": {},
   "source": [
    "TAREA: Modifica de forma libre los valores de un plano de la imagen"
   ]
  },
  {
   "cell_type": "code",
   "execution_count": 32,
   "metadata": {},
   "outputs": [],
   "source": [
    "vid = cv2.VideoCapture(0)\n",
    "  \n",
    "while(True):      \n",
    "    # fotograma a fotograma\n",
    "    ret, frame = vid.read()\n",
    "\n",
    "    if ret:\n",
    "        #Separamos canales\n",
    "        b = frame[:,:,0]\n",
    "        g = frame[:,:,1]\n",
    "        r = frame[:,:,2]\n",
    "        #Dimensiones imagen de entrada\n",
    "        h, w, c = frame.shape\n",
    "\n",
    "        #Changing g\n",
    "        changed_g = g.copy()\n",
    "        changed_g[0:h,0:w] = g + b\n",
    "\n",
    "        #Concateamos en horizontal los tres planos del fotograma\n",
    "        collage = np.hstack((r, changed_g, b))\n",
    "    \n",
    "        # Muestra fotograma redimensionando a la mitad para que quepa en pantalla\n",
    "        cv2.imshow('RGB', cv2.resize(collage, (int(w*1.5),int(h/2)),cv2.INTER_NEAREST))\n",
    "    \n",
    "    # Detenemos pulsado ESC\n",
    "    if cv2.waitKey(20) == 27:\n",
    "        break\n",
    "  \n",
    "# Libera el objeto de captura\n",
    "vid.release()\n",
    "# Destruye ventanas\n",
    "cv2.destroyAllWindows()"
   ]
  },
  {
   "cell_type": "markdown",
   "metadata": {},
   "source": [
    "TAREA:\n",
    "Pintar círculos en las posiciones del píxel más claro y oscuro de la imagen \n",
    "¿Si quisieras hacerlo sobre la zona 8x8 más clara/oscura?"
   ]
  },
  {
   "cell_type": "code",
   "execution_count": 33,
   "metadata": {},
   "outputs": [],
   "source": [
    "vid = cv2.VideoCapture(0)\n",
    "\n",
    "while True: \n",
    "    ret, frame  = vid.read()\n",
    "\n",
    "    h, w, c = frame.shape\n",
    "\n",
    "    r = frame[:,:,0]\n",
    "    g = frame[:,:,1]\n",
    "    b = frame[:,:,2]\n",
    "\n",
    "    max = 0\n",
    "    min = 255 *3 *64\n",
    "\n",
    "    y_max = 0\n",
    "    x_max = 0\n",
    "    y_min = 0\n",
    "    x_min = 0\n",
    "\n",
    "\n",
    "    #Determinar zona 8x8 más clara y más oscura \n",
    "    for i in range(0,h,8):\n",
    "        for j in range(0,w,8):\n",
    "            suma_rgb = r[i,j].sum() + g[i,j].sum() + b[i,j].sum()\n",
    "\n",
    "            if suma_rgb > max: \n",
    "                max = suma_rgb\n",
    "                x_max = j\n",
    "                y_max = i\n",
    "            \n",
    "            if suma_rgb < min: \n",
    "                min = suma_rgb\n",
    "                x_min = j\n",
    "                y_min = i\n",
    "    cv2.circle(frame, (x_max, y_max), 8, (255,0,0), -1) #Puntos más claros\n",
    "    cv2.circle(frame, (x_min, y_min), 8, (0,255,0), -1)\n",
    "\n",
    "    cv2.imshow('Cam', frame)\n",
    "\n",
    "    #Detener el programa al presionar ESC\n",
    "    if cv2.waitKey(20) == 27:\n",
    "        break\n",
    "\n",
    "# Libera el objeto de captura\n",
    "vid.release()\n",
    "# Destruye ventanas\n",
    "cv2.destroyAllWindows()"
   ]
  },
  {
   "cell_type": "markdown",
   "metadata": {},
   "source": [
    "TAREA: Llevar a cabo una propuesta propia de pop art"
   ]
  },
  {
   "cell_type": "code",
   "execution_count": 34,
   "metadata": {},
   "outputs": [],
   "source": [
    "\n",
    "vid = cv2.VideoCapture(0)\n",
    "\n",
    "# Dimensiones de la cámara\n",
    "w = int(vid.get(cv2.CAP_PROP_FRAME_WIDTH))\n",
    "h = int(vid.get(cv2.CAP_PROP_FRAME_HEIGHT))\n",
    "\n",
    "# Fuerzo a mitad de resolución para ocupar menos pantalla\n",
    "w = int(w / 2)\n",
    "h = int(h / 2)\n",
    "vid.set(cv2.CAP_PROP_FRAME_WIDTH, w)  # En Mac no reacciona a estos comandos\n",
    "vid.set(cv2.CAP_PROP_FRAME_HEIGHT, h)\n",
    "\n",
    "# Imagen conjunta 2x1 (solo dos imágenes)\n",
    "collage = np.zeros((h * 2, w, 3), dtype=np.uint8)\n",
    "top = collage[0:h, 0:w]  # Parte superior\n",
    "bottom = collage[h:h + h, 0:w]  # Parte inferior\n",
    "\n",
    "while True:\n",
    "    # fotograma a fotograma\n",
    "    ret, frameIN = vid.read()\n",
    "\n",
    "    # Menor tamaño\n",
    "    frame = cv2.resize(frameIN, (w, h), cv2.INTER_NEAREST)\n",
    "\n",
    "    if ret:\n",
    "        # Separamos canales\n",
    "        r = frame[:, :, 2]\n",
    "        g = frame[:, :, 1]\n",
    "        b = frame[:, :, 0]\n",
    "\n",
    "        # Jugamos con los valores de los planos para las dos imágenes\n",
    "        # Imagen superior\n",
    "        top[:, :, 0] = b  # Canal azul\n",
    "        top[:, :, 1] = g + 123  # Canal verde\n",
    "        top[:, :, 2] = r  # Canal rojo\n",
    "\n",
    "        # Imagen inferior\n",
    "        bottom[:, :, 0] = 255 - r  # Invertimos el canal rojo\n",
    "        bottom[:, :, 1] = g  # Mantenemos el canal verde\n",
    "        bottom[:, :, 2] = b  # Mantenemos el canal azul\n",
    "\n",
    "        # Muestra composición\n",
    "        cv2.imshow('Cam', collage)\n",
    "\n",
    "    # Detenemos pulsado ESC\n",
    "    if cv2.waitKey(20) == 27:\n",
    "        break\n",
    "\n",
    "# Libera el objeto de captura\n",
    "vid.release()\n",
    "# Destruye ventanas\n",
    "cv2.destroyAllWindows()\n"
   ]
  }
 ],
 "metadata": {
  "kernelspec": {
   "display_name": "Python 3.7.3 ('FACES')",
   "language": "python",
   "name": "python3"
  },
  "language_info": {
   "codemirror_mode": {
    "name": "ipython",
    "version": 3
   },
   "file_extension": ".py",
   "mimetype": "text/x-python",
   "name": "python",
   "nbconvert_exporter": "python",
   "pygments_lexer": "ipython3",
   "version": "3.11.5"
  },
  "orig_nbformat": 4,
  "vscode": {
   "interpreter": {
    "hash": "ea3a1ee99ce326e593ddb52cd278556d527fcb6552c40e2a47b1efb9d0183637"
   }
  }
 },
 "nbformat": 4,
 "nbformat_minor": 2
}
